{
  "nbformat": 4,
  "nbformat_minor": 0,
  "metadata": {
    "kernelspec": {
      "display_name": "Python 3",
      "language": "python",
      "name": "python3"
    },
    "language_info": {
      "codemirror_mode": {
        "name": "ipython",
        "version": 3
      },
      "file_extension": ".py",
      "mimetype": "text/x-python",
      "name": "python",
      "nbconvert_exporter": "python",
      "pygments_lexer": "ipython3",
      "version": "3.7.6"
    },
    "colab": {
      "name": "New_prepare_data.ipynb",
      "provenance": [],
      "collapsed_sections": []
    }
  },
  "cells": [
    {
      "cell_type": "code",
      "metadata": {
        "id": "5EYcD_dKw4WM"
      },
      "source": [
        "import pickle\n",
        "import pandas as pd\n",
        "import numpy as np\n",
        "import re\n",
        "import seaborn as sns\n",
        "import matplotlib.pyplot as plt\n",
        "import sys\n",
        "\n",
        "%matplotlib inline"
      ],
      "execution_count": null,
      "outputs": []
    },
    {
      "cell_type": "code",
      "metadata": {
        "id": "U9udV-mPioFi"
      },
      "source": [
        ""
      ],
      "execution_count": null,
      "outputs": []
    },
    {
      "cell_type": "code",
      "metadata": {
        "id": "v_eDMSuEioJ1"
      },
      "source": [
        "# You may download data by going to following link, register in the website, and login: \n",
        "# https://wti.kaust.edu.sa/solve/Arabic-Sentiment-Analysis-Challenge"
      ],
      "execution_count": null,
      "outputs": []
    },
    {
      "cell_type": "code",
      "metadata": {
        "id": "4UYVrYqliohc"
      },
      "source": [
        ""
      ],
      "execution_count": null,
      "outputs": []
    },
    {
      "cell_type": "code",
      "metadata": {
        "colab": {
          "base_uri": "https://localhost:8080/"
        },
        "id": "xyvXQMeIxE8A",
        "outputId": "3d647ce9-1876-491e-b778-5e56b1f81d44"
      },
      "source": [
        "from google.colab import drive\n",
        "drive.mount('/content/drive')"
      ],
      "execution_count": null,
      "outputs": [
        {
          "output_type": "stream",
          "name": "stdout",
          "text": [
            "Drive already mounted at /content/drive; to attempt to forcibly remount, call drive.mount(\"/content/drive\", force_remount=True).\n"
          ]
        }
      ]
    },
    {
      "cell_type": "code",
      "metadata": {
        "id": "sxRRaatgxE_Q"
      },
      "source": [
        "experiment_folder = '/content/drive/My Drive/PSU_sentiment_analysis_session'\n",
        "sys.path.append(experiment_folder)"
      ],
      "execution_count": null,
      "outputs": []
    },
    {
      "cell_type": "code",
      "metadata": {
        "id": "S99tWZdewCzH"
      },
      "source": [
        "# !pip install farasapy"
      ],
      "execution_count": null,
      "outputs": []
    },
    {
      "cell_type": "code",
      "metadata": {
        "id": "p_w8wopPxFCV"
      },
      "source": [
        "# import aranorm2 as aranorm\n",
        "import aranorm"
      ],
      "execution_count": null,
      "outputs": []
    },
    {
      "cell_type": "code",
      "metadata": {
        "colab": {
          "base_uri": "https://localhost:8080/",
          "height": 53
        },
        "id": "Cw832wAUgQky",
        "outputId": "a26a254a-083a-4ae6-fb38-4aa1e273c53c"
      },
      "source": [
        "sample =''' \n",
        "يُشار إلى أن اللغة العربية يتحدثها أكثر من 422 مليون نسمة ويتوزع متحدثوها\n",
        " في المنطقة المعروفة باسم الوطن العربي بالإضافة إلى العديد من المناطق ال\n",
        "أخرى المجاورة مثل الأهواز وتركيا وتشاد والسنغال وإريتريا وغيرها.وهي اللغ\n",
        "ة الرابعة من لغات منظمة الأمم المتحدة الرسمية الست. \n",
        "'''\n",
        "aranorm.normalize_arabic_text(sample)"
      ],
      "execution_count": null,
      "outputs": [
        {
          "output_type": "execute_result",
          "data": {
            "application/vnd.google.colaboratory.intrinsic+json": {
              "type": "string"
            },
            "text/plain": [
              "'يشار الي ان اللغه العربيه يتحدثها اكثر من مليون نسمه ويتوزع متحدثوها في المنطقه المعروفه باسم الوطن العربي بالاضافه الي العديد من المناطق ال اخري المجاوره مثل الاهواز وتركيا وتشاد والسنغال واريتريا وغيرها وهي اللغ ه الرابعه من لغات منظمه الامم المتحده الرسميه الست'"
            ]
          },
          "metadata": {},
          "execution_count": 32
        }
      ]
    },
    {
      "cell_type": "code",
      "metadata": {
        "id": "YBKvlEuiiRDV"
      },
      "source": [
        ""
      ],
      "execution_count": null,
      "outputs": []
    },
    {
      "cell_type": "markdown",
      "metadata": {
        "id": "uC6YKZ9BvFDU"
      },
      "source": [
        "# This Code Snippet is used to download Tweets by their IDs directly from Twitter"
      ]
    },
    {
      "cell_type": "code",
      "metadata": {
        "id": "jpPmBTz7kwWE"
      },
      "source": [
        "# import tweepy\n",
        "# from tqdm import tqdm\n",
        "# import pandas as pd\n",
        "# import pickle\n",
        "\n",
        "\n",
        "# def lookup_tweets(tweet_IDs, api):\n",
        "#     full_tweets = []\n",
        "#     tweet_count = len(tweet_IDs)\n",
        "#     try:\n",
        "#         for i in tqdm(range(int(tweet_count / 100) + 1)):\n",
        "#             # Catch the last group if it is less than 100 tweets\n",
        "#             end_loc = min((i + 1) * 100, tweet_count)\n",
        "#             full_tweets.extend(\n",
        "#                 api.statuses_lookup(id_=tweet_IDs[i * 100:end_loc])\n",
        "#             )\n",
        "            \n",
        "#     except tweepy.TweepError as e:\n",
        "#         print(e)\n",
        "#         print('Something went wrong, quitting...')\n",
        "    \n",
        "#     return full_tweets\n",
        "\n",
        "\n",
        "# consumer_key = '<YOUR_CONSUMER_KEY>'\n",
        "# consumer_secret = '<YOUR_CONSUMER_SECRET>'\n",
        "# access_token = '<YOUR_ACCESS_TOKEN>'\n",
        "# access_token_secret = '<YOUR_ACCESS_TOKEN_SECRET>'\n",
        "\n",
        "# print('Connecting to Twitter API...')\n",
        "# auth = tweepy.OAuthHandler(consumer_key, consumer_secret)\n",
        "# auth.set_access_token(access_token, access_token_secret)\n",
        "# api = tweepy.API(auth, wait_on_rate_limit=True, wait_on_rate_limit_notify=True)\n",
        "# print('Connected!!')\n",
        "\n",
        "# print('Loading Tweets IDs file...')\n",
        "# filename = 'training_file_ids_n_labels_only.csv'\n",
        "\n",
        "# data = pd.read_csv(filename)\n",
        "# tweets_ids = list(data['Tweet_id'])\n",
        "\n",
        "# print('Fetching data from API....')\n",
        "# results = lookup_tweets(tweets_ids, api)\n",
        "\n",
        "# tweets_jsons = []\n",
        "# for tweet in results:\n",
        "#     tweets_jsons.append(tweet._json)\n",
        "\n",
        "# pickle.dump(tweets_jsons, open(f'{experiment_folder}/train_tweets_json.pkl', 'wb'))\n",
        "\n",
        "\n"
      ],
      "execution_count": null,
      "outputs": []
    },
    {
      "cell_type": "code",
      "metadata": {
        "id": "uyVpc6ifkwY8"
      },
      "source": [
        "  "
      ],
      "execution_count": null,
      "outputs": []
    },
    {
      "cell_type": "code",
      "metadata": {
        "id": "6kzaXU3Qw4WV"
      },
      "source": [
        "tweets = pickle.load(open(f'{experiment_folder}/train_tweets_json.pkl', 'rb'))"
      ],
      "execution_count": null,
      "outputs": []
    },
    {
      "cell_type": "code",
      "metadata": {
        "id": "0e4q7Mw8w4WY",
        "colab": {
          "base_uri": "https://localhost:8080/"
        },
        "outputId": "81878a9b-e6d1-4abe-a786-f926b4c56cc5"
      },
      "source": [
        "len(tweets)"
      ],
      "execution_count": null,
      "outputs": [
        {
          "output_type": "execute_result",
          "data": {
            "text/plain": [
              "30622"
            ]
          },
          "metadata": {},
          "execution_count": 35
        }
      ]
    },
    {
      "cell_type": "code",
      "metadata": {
        "colab": {
          "base_uri": "https://localhost:8080/"
        },
        "id": "Zss0fPjO5_uG",
        "outputId": "7b59d1d6-2cb4-4550-ffe7-5ae349fa5e68"
      },
      "source": [
        "tweets[0]"
      ],
      "execution_count": null,
      "outputs": [
        {
          "output_type": "execute_result",
          "data": {
            "text/plain": [
              "{'contributors': None,\n",
              " 'coordinates': None,\n",
              " 'created_at': 'Mon Jan 27 19:48:16 +0000 2020',\n",
              " 'entities': {'hashtags': [],\n",
              "  'symbols': [],\n",
              "  'urls': [],\n",
              "  'user_mentions': [{'id': 1029144136887296010,\n",
              "    'id_str': '1029144136887296010',\n",
              "    'indices': [0, 9],\n",
              "    'name': '🐆',\n",
              "    'screen_name': 'Seemni71'}]},\n",
              " 'favorite_count': 0,\n",
              " 'favorited': False,\n",
              " 'geo': None,\n",
              " 'id': 1221882634663604224,\n",
              " 'id_str': '1221882634663604224',\n",
              " 'in_reply_to_screen_name': 'Seemni71',\n",
              " 'in_reply_to_status_id': 1221880527126515712,\n",
              " 'in_reply_to_status_id_str': '1221880527126515712',\n",
              " 'in_reply_to_user_id': 1029144136887296010,\n",
              " 'in_reply_to_user_id_str': '1029144136887296010',\n",
              " 'is_quote_status': False,\n",
              " 'lang': 'ar',\n",
              " 'place': None,\n",
              " 'retweet_count': 0,\n",
              " 'retweeted': False,\n",
              " 'source': '<a href=\"http://twitter.com/download/android\" rel=\"nofollow\">Twitter for Android</a>',\n",
              " 'text': '@Seemni71 هو اساسا في ذكور دي الأيام 😭💔',\n",
              " 'truncated': False,\n",
              " 'user': {'contributors_enabled': False,\n",
              "  'created_at': 'Fri Nov 15 14:02:41 +0000 2019',\n",
              "  'default_profile': True,\n",
              "  'default_profile_image': False,\n",
              "  'description': 'SMILE\\n⠀⠀     You have EXO in your life. \\n\\n⠀',\n",
              "  'entities': {'description': {'urls': []}},\n",
              "  'favourites_count': 8089,\n",
              "  'follow_request_sent': False,\n",
              "  'followers_count': 48,\n",
              "  'following': False,\n",
              "  'friends_count': 100,\n",
              "  'geo_enabled': False,\n",
              "  'has_extended_profile': True,\n",
              "  'id': 1195341178385977346,\n",
              "  'id_str': '1195341178385977346',\n",
              "  'is_translation_enabled': False,\n",
              "  'is_translator': False,\n",
              "  'lang': None,\n",
              "  'listed_count': 0,\n",
              "  'location': '',\n",
              "  'name': 'nane💗',\n",
              "  'notifications': False,\n",
              "  'profile_background_color': 'F5F8FA',\n",
              "  'profile_background_image_url': None,\n",
              "  'profile_background_image_url_https': None,\n",
              "  'profile_background_tile': False,\n",
              "  'profile_banner_url': 'https://pbs.twimg.com/profile_banners/1195341178385977346/1600040498',\n",
              "  'profile_image_url': 'http://pbs.twimg.com/profile_images/1346128902230568961/mWqieRv5_normal.jpg',\n",
              "  'profile_image_url_https': 'https://pbs.twimg.com/profile_images/1346128902230568961/mWqieRv5_normal.jpg',\n",
              "  'profile_link_color': '1DA1F2',\n",
              "  'profile_sidebar_border_color': 'C0DEED',\n",
              "  'profile_sidebar_fill_color': 'DDEEF6',\n",
              "  'profile_text_color': '333333',\n",
              "  'profile_use_background_image': True,\n",
              "  'protected': False,\n",
              "  'screen_name': '_ili03_',\n",
              "  'statuses_count': 1866,\n",
              "  'time_zone': None,\n",
              "  'translator_type': 'none',\n",
              "  'url': None,\n",
              "  'utc_offset': None,\n",
              "  'verified': False,\n",
              "  'withheld_in_countries': []}}"
            ]
          },
          "metadata": {},
          "execution_count": 36
        }
      ]
    },
    {
      "cell_type": "code",
      "metadata": {
        "id": "kttAE2okw4WZ"
      },
      "source": [
        "# create a dictionary with keys as ids and values as tweet json\n",
        "tweets_by_id = {}\n",
        "for tweet in tweets:\n",
        "    tweets_by_id[tweet['id']] = tweet"
      ],
      "execution_count": null,
      "outputs": []
    },
    {
      "cell_type": "code",
      "metadata": {
        "id": "rKjItmCmw4Wc"
      },
      "source": [
        ""
      ],
      "execution_count": null,
      "outputs": []
    },
    {
      "cell_type": "code",
      "metadata": {
        "id": "MyyA1tNCw4We"
      },
      "source": [
        "def prepare_text(x):\n",
        "    tweet_id = x['Tweet_id']\n",
        "    if tweet_id in tweets_by_id:\n",
        "        tweet_text = tweets_by_id[tweet_id]['text']\n",
        "        x['text'] = tweet_text\n",
        "        x['normalized_text'] = aranorm.normalize_arabic_text(x['text'])\n",
        "    return x"
      ],
      "execution_count": null,
      "outputs": []
    },
    {
      "cell_type": "code",
      "metadata": {
        "id": "zqbBfBDXw4Wf"
      },
      "source": [
        ""
      ],
      "execution_count": null,
      "outputs": []
    },
    {
      "cell_type": "code",
      "metadata": {
        "colab": {
          "base_uri": "https://localhost:8080/",
          "height": 202
        },
        "id": "vjBLbM2Pf_gx",
        "outputId": "4131196e-3671-4b1e-ffc8-b5baecb2ce41"
      },
      "source": [
        "data = pd.read_csv(f'{experiment_folder}/training_file_ids_n_labels_only.csv')\n",
        "data.head()"
      ],
      "execution_count": null,
      "outputs": [
        {
          "output_type": "execute_result",
          "data": {
            "text/html": [
              "<div>\n",
              "<style scoped>\n",
              "    .dataframe tbody tr th:only-of-type {\n",
              "        vertical-align: middle;\n",
              "    }\n",
              "\n",
              "    .dataframe tbody tr th {\n",
              "        vertical-align: top;\n",
              "    }\n",
              "\n",
              "    .dataframe thead th {\n",
              "        text-align: right;\n",
              "    }\n",
              "</style>\n",
              "<table border=\"1\" class=\"dataframe\">\n",
              "  <thead>\n",
              "    <tr style=\"text-align: right;\">\n",
              "      <th></th>\n",
              "      <th>Tweet_id</th>\n",
              "      <th>sentiment</th>\n",
              "    </tr>\n",
              "  </thead>\n",
              "  <tbody>\n",
              "    <tr>\n",
              "      <th>0</th>\n",
              "      <td>1221883443467952128</td>\n",
              "      <td>Positive</td>\n",
              "    </tr>\n",
              "    <tr>\n",
              "      <th>1</th>\n",
              "      <td>1221875106206638080</td>\n",
              "      <td>Positive</td>\n",
              "    </tr>\n",
              "    <tr>\n",
              "      <th>2</th>\n",
              "      <td>1221884257490042887</td>\n",
              "      <td>Neutral</td>\n",
              "    </tr>\n",
              "    <tr>\n",
              "      <th>3</th>\n",
              "      <td>1221882556548816896</td>\n",
              "      <td>Neutral</td>\n",
              "    </tr>\n",
              "    <tr>\n",
              "      <th>4</th>\n",
              "      <td>1227326811652026368</td>\n",
              "      <td>Positive</td>\n",
              "    </tr>\n",
              "  </tbody>\n",
              "</table>\n",
              "</div>"
            ],
            "text/plain": [
              "              Tweet_id sentiment\n",
              "0  1221883443467952128  Positive\n",
              "1  1221875106206638080  Positive\n",
              "2  1221884257490042887   Neutral\n",
              "3  1221882556548816896   Neutral\n",
              "4  1227326811652026368  Positive"
            ]
          },
          "metadata": {},
          "execution_count": 39
        }
      ]
    },
    {
      "cell_type": "code",
      "metadata": {
        "id": "qOLgeAsTw4Wg",
        "colab": {
          "base_uri": "https://localhost:8080/",
          "height": 202
        },
        "outputId": "02c7c538-7051-45f5-f1a8-8d947e1ab883"
      },
      "source": [
        "# data = pd.read_csv(f'{experiment_folder}/training_file_ids_n_labels_only.csv')\n",
        "data['text'] = 'UNKOWN_TEXT!'\n",
        "data.head()"
      ],
      "execution_count": null,
      "outputs": [
        {
          "output_type": "execute_result",
          "data": {
            "text/html": [
              "<div>\n",
              "<style scoped>\n",
              "    .dataframe tbody tr th:only-of-type {\n",
              "        vertical-align: middle;\n",
              "    }\n",
              "\n",
              "    .dataframe tbody tr th {\n",
              "        vertical-align: top;\n",
              "    }\n",
              "\n",
              "    .dataframe thead th {\n",
              "        text-align: right;\n",
              "    }\n",
              "</style>\n",
              "<table border=\"1\" class=\"dataframe\">\n",
              "  <thead>\n",
              "    <tr style=\"text-align: right;\">\n",
              "      <th></th>\n",
              "      <th>Tweet_id</th>\n",
              "      <th>sentiment</th>\n",
              "      <th>text</th>\n",
              "    </tr>\n",
              "  </thead>\n",
              "  <tbody>\n",
              "    <tr>\n",
              "      <th>0</th>\n",
              "      <td>1221883443467952128</td>\n",
              "      <td>Positive</td>\n",
              "      <td>UNKOWN_TEXT!</td>\n",
              "    </tr>\n",
              "    <tr>\n",
              "      <th>1</th>\n",
              "      <td>1221875106206638080</td>\n",
              "      <td>Positive</td>\n",
              "      <td>UNKOWN_TEXT!</td>\n",
              "    </tr>\n",
              "    <tr>\n",
              "      <th>2</th>\n",
              "      <td>1221884257490042887</td>\n",
              "      <td>Neutral</td>\n",
              "      <td>UNKOWN_TEXT!</td>\n",
              "    </tr>\n",
              "    <tr>\n",
              "      <th>3</th>\n",
              "      <td>1221882556548816896</td>\n",
              "      <td>Neutral</td>\n",
              "      <td>UNKOWN_TEXT!</td>\n",
              "    </tr>\n",
              "    <tr>\n",
              "      <th>4</th>\n",
              "      <td>1227326811652026368</td>\n",
              "      <td>Positive</td>\n",
              "      <td>UNKOWN_TEXT!</td>\n",
              "    </tr>\n",
              "  </tbody>\n",
              "</table>\n",
              "</div>"
            ],
            "text/plain": [
              "              Tweet_id sentiment          text\n",
              "0  1221883443467952128  Positive  UNKOWN_TEXT!\n",
              "1  1221875106206638080  Positive  UNKOWN_TEXT!\n",
              "2  1221884257490042887   Neutral  UNKOWN_TEXT!\n",
              "3  1221882556548816896   Neutral  UNKOWN_TEXT!\n",
              "4  1227326811652026368  Positive  UNKOWN_TEXT!"
            ]
          },
          "metadata": {},
          "execution_count": 40
        }
      ]
    },
    {
      "cell_type": "code",
      "metadata": {
        "id": "vn5XsVeI6sYU"
      },
      "source": [
        "# data['text'] = 'UNKOWN_TEXT!'\n",
        "data = data.apply(prepare_text, axis=1)"
      ],
      "execution_count": null,
      "outputs": []
    },
    {
      "cell_type": "code",
      "metadata": {
        "colab": {
          "base_uri": "https://localhost:8080/",
          "height": 202
        },
        "id": "aAuMmFRQ7ksA",
        "outputId": "a948acca-8daf-46d8-8c7f-cf64cd60e39c"
      },
      "source": [
        "data.head()"
      ],
      "execution_count": null,
      "outputs": [
        {
          "output_type": "execute_result",
          "data": {
            "text/html": [
              "<div>\n",
              "<style scoped>\n",
              "    .dataframe tbody tr th:only-of-type {\n",
              "        vertical-align: middle;\n",
              "    }\n",
              "\n",
              "    .dataframe tbody tr th {\n",
              "        vertical-align: top;\n",
              "    }\n",
              "\n",
              "    .dataframe thead th {\n",
              "        text-align: right;\n",
              "    }\n",
              "</style>\n",
              "<table border=\"1\" class=\"dataframe\">\n",
              "  <thead>\n",
              "    <tr style=\"text-align: right;\">\n",
              "      <th></th>\n",
              "      <th>Tweet_id</th>\n",
              "      <th>normalized_text</th>\n",
              "      <th>sentiment</th>\n",
              "      <th>text</th>\n",
              "    </tr>\n",
              "  </thead>\n",
              "  <tbody>\n",
              "    <tr>\n",
              "      <th>0</th>\n",
              "      <td>1221883443467952128</td>\n",
              "      <td>NaN</td>\n",
              "      <td>Positive</td>\n",
              "      <td>UNKOWN_TEXT!</td>\n",
              "    </tr>\n",
              "    <tr>\n",
              "      <th>1</th>\n",
              "      <td>1221875106206638080</td>\n",
              "      <td>والله حسب الارقام سيكون مخيب للامال ولكن الاهل...</td>\n",
              "      <td>Positive</td>\n",
              "      <td>@nas_alharbi8 والله حسب الأرقام سيكون مخيب للآ...</td>\n",
              "    </tr>\n",
              "    <tr>\n",
              "      <th>2</th>\n",
              "      <td>1221884257490042887</td>\n",
              "      <td>NaN</td>\n",
              "      <td>Neutral</td>\n",
              "      <td>UNKOWN_TEXT!</td>\n",
              "    </tr>\n",
              "    <tr>\n",
              "      <th>3</th>\n",
              "      <td>1221882556548816896</td>\n",
              "      <td>NaN</td>\n",
              "      <td>Neutral</td>\n",
              "      <td>UNKOWN_TEXT!</td>\n",
              "    </tr>\n",
              "    <tr>\n",
              "      <th>4</th>\n",
              "      <td>1227326811652026368</td>\n",
              "      <td>NaN</td>\n",
              "      <td>Positive</td>\n",
              "      <td>UNKOWN_TEXT!</td>\n",
              "    </tr>\n",
              "  </tbody>\n",
              "</table>\n",
              "</div>"
            ],
            "text/plain": [
              "              Tweet_id  ...                                               text\n",
              "0  1221883443467952128  ...                                       UNKOWN_TEXT!\n",
              "1  1221875106206638080  ...  @nas_alharbi8 والله حسب الأرقام سيكون مخيب للآ...\n",
              "2  1221884257490042887  ...                                       UNKOWN_TEXT!\n",
              "3  1221882556548816896  ...                                       UNKOWN_TEXT!\n",
              "4  1227326811652026368  ...                                       UNKOWN_TEXT!\n",
              "\n",
              "[5 rows x 4 columns]"
            ]
          },
          "metadata": {},
          "execution_count": 42
        }
      ]
    },
    {
      "cell_type": "code",
      "metadata": {
        "colab": {
          "base_uri": "https://localhost:8080/",
          "height": 202
        },
        "id": "HmLx0P3Mw4Wi",
        "outputId": "61646b6e-fb9f-487a-f286-1daf5155f381"
      },
      "source": [
        "data = data[data['text'] != 'UNKOWN_TEXT!'].reset_index(drop=True) # remove tweets that have no text\n",
        "data.head()"
      ],
      "execution_count": null,
      "outputs": [
        {
          "output_type": "execute_result",
          "data": {
            "text/html": [
              "<div>\n",
              "<style scoped>\n",
              "    .dataframe tbody tr th:only-of-type {\n",
              "        vertical-align: middle;\n",
              "    }\n",
              "\n",
              "    .dataframe tbody tr th {\n",
              "        vertical-align: top;\n",
              "    }\n",
              "\n",
              "    .dataframe thead th {\n",
              "        text-align: right;\n",
              "    }\n",
              "</style>\n",
              "<table border=\"1\" class=\"dataframe\">\n",
              "  <thead>\n",
              "    <tr style=\"text-align: right;\">\n",
              "      <th></th>\n",
              "      <th>Tweet_id</th>\n",
              "      <th>normalized_text</th>\n",
              "      <th>sentiment</th>\n",
              "      <th>text</th>\n",
              "    </tr>\n",
              "  </thead>\n",
              "  <tbody>\n",
              "    <tr>\n",
              "      <th>0</th>\n",
              "      <td>1221875106206638080</td>\n",
              "      <td>والله حسب الارقام سيكون مخيب للامال ولكن الاهل...</td>\n",
              "      <td>Positive</td>\n",
              "      <td>@nas_alharbi8 والله حسب الأرقام سيكون مخيب للآ...</td>\n",
              "    </tr>\n",
              "    <tr>\n",
              "      <th>1</th>\n",
              "      <td>1226422627436310528</td>\n",
              "      <td>الحب الحقيقي هو اقتسام بعض نفسك مع شخص اخر اقر...</td>\n",
              "      <td>Positive</td>\n",
              "      <td>الحب الحقيقي هو اقتسام بعض نفسك مع شخص أخر أقر...</td>\n",
              "    </tr>\n",
              "    <tr>\n",
              "      <th>2</th>\n",
              "      <td>1221880820815798277</td>\n",
              "      <td>النهضه في فتيل</td>\n",
              "      <td>Positive</td>\n",
              "      <td>@Mo_Fat7 النهضة في فتيل 😂</td>\n",
              "    </tr>\n",
              "    <tr>\n",
              "      <th>3</th>\n",
              "      <td>1221884400377499651</td>\n",
              "      <td>ليس حبا في ايران بقدر ماهو نكايه بترامب وحزبه</td>\n",
              "      <td>Neutral</td>\n",
              "      <td>@halgawi @DmfMohe ليس حباً في ايران بقدر ماهو ...</td>\n",
              "    </tr>\n",
              "    <tr>\n",
              "      <th>4</th>\n",
              "      <td>1221881406168731649</td>\n",
              "      <td>ابي اعرف الحاكم العربي المسلم اشلون ينام مايخا...</td>\n",
              "      <td>Neutral</td>\n",
              "      <td>@adalfahadduwail أبي أعرف الحاكم العربي المسلم...</td>\n",
              "    </tr>\n",
              "  </tbody>\n",
              "</table>\n",
              "</div>"
            ],
            "text/plain": [
              "              Tweet_id  ...                                               text\n",
              "0  1221875106206638080  ...  @nas_alharbi8 والله حسب الأرقام سيكون مخيب للآ...\n",
              "1  1226422627436310528  ...  الحب الحقيقي هو اقتسام بعض نفسك مع شخص أخر أقر...\n",
              "2  1221880820815798277  ...                          @Mo_Fat7 النهضة في فتيل 😂\n",
              "3  1221884400377499651  ...  @halgawi @DmfMohe ليس حباً في ايران بقدر ماهو ...\n",
              "4  1221881406168731649  ...  @adalfahadduwail أبي أعرف الحاكم العربي المسلم...\n",
              "\n",
              "[5 rows x 4 columns]"
            ]
          },
          "metadata": {},
          "execution_count": 43
        }
      ]
    },
    {
      "cell_type": "code",
      "metadata": {
        "id": "DKZAaCPIw4Wl",
        "colab": {
          "base_uri": "https://localhost:8080/"
        },
        "outputId": "d58424bb-44ba-437a-f086-4bb7fdfc6193"
      },
      "source": [
        "data = data.drop_duplicates('normalized_text').reset_index(drop=True) # remove duplicate data\n",
        "len(data)"
      ],
      "execution_count": null,
      "outputs": [
        {
          "output_type": "execute_result",
          "data": {
            "text/plain": [
              "29925"
            ]
          },
          "metadata": {},
          "execution_count": 44
        }
      ]
    },
    {
      "cell_type": "code",
      "metadata": {
        "colab": {
          "base_uri": "https://localhost:8080/"
        },
        "id": "vkGwp71cw4Wm",
        "outputId": "49c69bd0-44b7-48b1-be80-1289dd61c291"
      },
      "source": [
        "len(data[data['sentiment'] == 'Positive']), \\\n",
        "len(data[data['sentiment'] == 'Neutral']), \\\n",
        "len(data[data['sentiment'] == 'Negative'])"
      ],
      "execution_count": null,
      "outputs": [
        {
          "output_type": "execute_result",
          "data": {
            "text/plain": [
              "(4607, 20808, 4510)"
            ]
          },
          "metadata": {},
          "execution_count": 46
        }
      ]
    },
    {
      "cell_type": "code",
      "metadata": {
        "id": "dxRu1d3tw4Wn"
      },
      "source": [
        "def show_pie_chart(data_dist):\n",
        "    #define Seaborn color palette to use\n",
        "    red = [(0.8901960784313725, 0.10196078431372549, 0.10980392156862745)]\n",
        "    orange = [(1.0, 0.4980392156862745, 0.0)]\n",
        "    green = [(0.2, 0.6274509803921569, 0.17254901960784313)]\n",
        "    labels = ['Positive', 'Neutral', 'Negative']\n",
        "    #create pie chart\n",
        "    plt.pie(data_dist, labels = labels, colors=green+orange+red, autopct='%.0f%%')\n",
        "    plt.show()"
      ],
      "execution_count": null,
      "outputs": []
    },
    {
      "cell_type": "code",
      "metadata": {
        "colab": {
          "base_uri": "https://localhost:8080/",
          "height": 247
        },
        "id": "cq2rQ9aCw4Wo",
        "outputId": "ac2afdb3-c0b5-447f-936e-c2fc86e811ff"
      },
      "source": [
        "data_dist = [\n",
        "                len(data[data['sentiment'] == 'Positive']),\n",
        "                len(data[data['sentiment'] == 'Neutral']),\n",
        "                len(data[data['sentiment'] == 'Negative'])\n",
        "            ]\n",
        "show_pie_chart(data_dist)"
      ],
      "execution_count": null,
      "outputs": [
        {
          "output_type": "display_data",
          "data": {
            "image/png": "[encoded data removed]",
            "text/plain": [
              "<Figure size 432x288 with 1 Axes>"
            ]
          },
          "metadata": {}
        }
      ]
    },
    {
      "cell_type": "code",
      "metadata": {
        "id": "MDgLNy1lNlwX"
      },
      "source": [
        "data.to_csv(f'{experiment_folder}/unbalanced_data_psu.csv', index=False)"
      ],
      "execution_count": null,
      "outputs": []
    },
    {
      "cell_type": "markdown",
      "metadata": {
        "id": "B81goDwnyfec"
      },
      "source": [
        "One way to balance the number of examples in all classes is to find the class that has the minimum number of examples then randomly sample the same amount of examples from all other classes."
      ]
    },
    {
      "cell_type": "code",
      "metadata": {
        "colab": {
          "base_uri": "https://localhost:8080/"
        },
        "id": "tQAsrkQow4Wp",
        "outputId": "b1ea93bc-78d7-4481-e0e9-4f87d4e5667d"
      },
      "source": [
        "# find the minimum number of examples from all classes\n",
        "min_class = min(\n",
        "                len(data[data['sentiment'] == 'Positive']),\n",
        "                len(data[data['sentiment'] == 'Neutral']),\n",
        "                len(data[data['sentiment'] == 'Negative'])\n",
        "               )\n",
        "min_class"
      ],
      "execution_count": null,
      "outputs": [
        {
          "output_type": "execute_result",
          "data": {
            "text/plain": [
              "4510"
            ]
          },
          "metadata": {},
          "execution_count": 52
        }
      ]
    },
    {
      "cell_type": "code",
      "metadata": {
        "colab": {
          "base_uri": "https://localhost:8080/",
          "height": 202
        },
        "id": "wA_pyvZg9eGq",
        "outputId": "8526c69a-8ab6-42d9-b84b-036485d1d09e"
      },
      "source": [
        "data.head()\n"
      ],
      "execution_count": null,
      "outputs": [
        {
          "output_type": "execute_result",
          "data": {
            "text/html": [
              "<div>\n",
              "<style scoped>\n",
              "    .dataframe tbody tr th:only-of-type {\n",
              "        vertical-align: middle;\n",
              "    }\n",
              "\n",
              "    .dataframe tbody tr th {\n",
              "        vertical-align: top;\n",
              "    }\n",
              "\n",
              "    .dataframe thead th {\n",
              "        text-align: right;\n",
              "    }\n",
              "</style>\n",
              "<table border=\"1\" class=\"dataframe\">\n",
              "  <thead>\n",
              "    <tr style=\"text-align: right;\">\n",
              "      <th></th>\n",
              "      <th>Tweet_id</th>\n",
              "      <th>normalized_text</th>\n",
              "      <th>sentiment</th>\n",
              "      <th>text</th>\n",
              "    </tr>\n",
              "  </thead>\n",
              "  <tbody>\n",
              "    <tr>\n",
              "      <th>0</th>\n",
              "      <td>1221875106206638080</td>\n",
              "      <td>والله حسب الارقام سيكون مخيب للامال ولكن الاهل...</td>\n",
              "      <td>Positive</td>\n",
              "      <td>@nas_alharbi8 والله حسب الأرقام سيكون مخيب للآ...</td>\n",
              "    </tr>\n",
              "    <tr>\n",
              "      <th>1</th>\n",
              "      <td>1226422627436310528</td>\n",
              "      <td>الحب الحقيقي هو اقتسام بعض نفسك مع شخص اخر اقر...</td>\n",
              "      <td>Positive</td>\n",
              "      <td>الحب الحقيقي هو اقتسام بعض نفسك مع شخص أخر أقر...</td>\n",
              "    </tr>\n",
              "    <tr>\n",
              "      <th>2</th>\n",
              "      <td>1221880820815798277</td>\n",
              "      <td>النهضه في فتيل</td>\n",
              "      <td>Positive</td>\n",
              "      <td>@Mo_Fat7 النهضة في فتيل 😂</td>\n",
              "    </tr>\n",
              "    <tr>\n",
              "      <th>3</th>\n",
              "      <td>1221884400377499651</td>\n",
              "      <td>ليس حبا في ايران بقدر ماهو نكايه بترامب وحزبه</td>\n",
              "      <td>Neutral</td>\n",
              "      <td>@halgawi @DmfMohe ليس حباً في ايران بقدر ماهو ...</td>\n",
              "    </tr>\n",
              "    <tr>\n",
              "      <th>4</th>\n",
              "      <td>1221881406168731649</td>\n",
              "      <td>ابي اعرف الحاكم العربي المسلم اشلون ينام مايخا...</td>\n",
              "      <td>Neutral</td>\n",
              "      <td>@adalfahadduwail أبي أعرف الحاكم العربي المسلم...</td>\n",
              "    </tr>\n",
              "  </tbody>\n",
              "</table>\n",
              "</div>"
            ],
            "text/plain": [
              "              Tweet_id  ...                                               text\n",
              "0  1221875106206638080  ...  @nas_alharbi8 والله حسب الأرقام سيكون مخيب للآ...\n",
              "1  1226422627436310528  ...  الحب الحقيقي هو اقتسام بعض نفسك مع شخص أخر أقر...\n",
              "2  1221880820815798277  ...                          @Mo_Fat7 النهضة في فتيل 😂\n",
              "3  1221884400377499651  ...  @halgawi @DmfMohe ليس حباً في ايران بقدر ماهو ...\n",
              "4  1221881406168731649  ...  @adalfahadduwail أبي أعرف الحاكم العربي المسلم...\n",
              "\n",
              "[5 rows x 4 columns]"
            ]
          },
          "metadata": {},
          "execution_count": 53
        }
      ]
    },
    {
      "cell_type": "code",
      "metadata": {
        "id": "6uoRMOQH9duv"
      },
      "source": [
        ""
      ],
      "execution_count": null,
      "outputs": []
    },
    {
      "cell_type": "code",
      "metadata": {
        "id": "dVxsTtU6w4Wq"
      },
      "source": [
        "# randomly sample data with the \"min_class\" amount \n",
        "sampled_positive = data[data['sentiment'] == 'Positive'].sample(n=min_class)\n",
        "sampled_neutral = data[data['sentiment'] == 'Neutral'].sample(n=min_class)\n",
        "sampled_negative = data[data['sentiment'] == 'Negative'].sample(n=min_class)"
      ],
      "execution_count": null,
      "outputs": []
    },
    {
      "cell_type": "code",
      "metadata": {
        "id": "-oxWv-bFw4Wr"
      },
      "source": [
        "sampled_positive = sampled_positive.reset_index(drop=True)\n",
        "sampled_neutral = sampled_neutral.reset_index(drop=True)\n",
        "sampled_negative = sampled_negative.reset_index(drop=True)"
      ],
      "execution_count": null,
      "outputs": []
    },
    {
      "cell_type": "code",
      "metadata": {
        "id": "9cUg_fHXw4Ws"
      },
      "source": [
        ""
      ],
      "execution_count": null,
      "outputs": []
    },
    {
      "cell_type": "code",
      "metadata": {
        "colab": {
          "base_uri": "https://localhost:8080/",
          "height": 247
        },
        "id": "pCQfbCrlw4Wt",
        "outputId": "6da559a9-3a14-4470-f2ba-d096e908baad"
      },
      "source": [
        "data_dist = [\n",
        "                len(sampled_positive),\n",
        "                len(sampled_neutral),\n",
        "                len(sampled_negative)\n",
        "            ]\n",
        "show_pie_chart(data_dist)"
      ],
      "execution_count": null,
      "outputs": [
        {
          "output_type": "display_data",
          "data": {
            "image/png": "[encoded data removed]",
            "text/plain": [
              "<Figure size 432x288 with 1 Axes>"
            ]
          },
          "metadata": {}
        }
      ]
    },
    {
      "cell_type": "markdown",
      "metadata": {
        "id": "-P3rS80R05Hr"
      },
      "source": [
        "Finally, combine all classes together, shuffle them, and reset index for the whole data"
      ]
    },
    {
      "cell_type": "code",
      "metadata": {
        "colab": {
          "base_uri": "https://localhost:8080/",
          "height": 414
        },
        "id": "ikE4N_caw4Wu",
        "outputId": "3bc6976a-ebdc-4d71-f2a2-49facfb00fc5"
      },
      "source": [
        "balanced_data = sampled_positive.append(sampled_neutral).append(sampled_negative).sample(frac=1).reset_index(drop=True)\n",
        "balanced_data"
      ],
      "execution_count": null,
      "outputs": [
        {
          "output_type": "execute_result",
          "data": {
            "text/html": [
              "<div>\n",
              "<style scoped>\n",
              "    .dataframe tbody tr th:only-of-type {\n",
              "        vertical-align: middle;\n",
              "    }\n",
              "\n",
              "    .dataframe tbody tr th {\n",
              "        vertical-align: top;\n",
              "    }\n",
              "\n",
              "    .dataframe thead th {\n",
              "        text-align: right;\n",
              "    }\n",
              "</style>\n",
              "<table border=\"1\" class=\"dataframe\">\n",
              "  <thead>\n",
              "    <tr style=\"text-align: right;\">\n",
              "      <th></th>\n",
              "      <th>Tweet_id</th>\n",
              "      <th>normalized_text</th>\n",
              "      <th>sentiment</th>\n",
              "      <th>text</th>\n",
              "    </tr>\n",
              "  </thead>\n",
              "  <tbody>\n",
              "    <tr>\n",
              "      <th>0</th>\n",
              "      <td>1221776528259854336</td>\n",
              "      <td>و للمره المليون الاب والله اولا و عاشرا و اخيرا</td>\n",
              "      <td>Positive</td>\n",
              "      <td>و للمرة المليون الأب والله أولاً و عاشراً و أخ...</td>\n",
              "    </tr>\n",
              "    <tr>\n",
              "      <th>1</th>\n",
              "      <td>1217682671469461504</td>\n",
              "      <td>يا وحشه غيابك ويا شين فرقاه ويا كبر ذنبه لو هق...</td>\n",
              "      <td>Neutral</td>\n",
              "      <td>يا وحشة غيابك ويا شين فرقاه\\nويا كبر ذنبه لو ه...</td>\n",
              "    </tr>\n",
              "    <tr>\n",
              "      <th>2</th>\n",
              "      <td>1146251606167556099</td>\n",
              "      <td>خيبكم الله حولتم بلاد التوحيد الي مزارات للدعا...</td>\n",
              "      <td>Negative</td>\n",
              "      <td>خيبكم الله ، حولتم بلاد التوحيد إلى مزارات للد...</td>\n",
              "    </tr>\n",
              "    <tr>\n",
              "      <th>3</th>\n",
              "      <td>1243483945917956097</td>\n",
              "      <td>من امس ارسل علي الخاص و اتصل علي لا يوجد اي تج...</td>\n",
              "      <td>Negative</td>\n",
              "      <td>@stccare_ksa @stc_ksa @stc من أمس ارسل على الخ...</td>\n",
              "    </tr>\n",
              "    <tr>\n",
              "      <th>4</th>\n",
              "      <td>1080541514470703105</td>\n",
              "      <td>اعوذ بالله من زوجه ما تبغي الطايف في شهر العسل</td>\n",
              "      <td>Neutral</td>\n",
              "      <td>أعوذ بالله من زوجة ما تبغى الطايف في شهر العسل</td>\n",
              "    </tr>\n",
              "    <tr>\n",
              "      <th>...</th>\n",
              "      <td>...</td>\n",
              "      <td>...</td>\n",
              "      <td>...</td>\n",
              "      <td>...</td>\n",
              "    </tr>\n",
              "    <tr>\n",
              "      <th>13525</th>\n",
              "      <td>1221076189386813448</td>\n",
              "      <td>والله عرض باقه جوي تي في حقت جدا مغريه رسيفرهم...</td>\n",
              "      <td>Neutral</td>\n",
              "      <td>والله عرض باقة جوي تي في حقت stc جداً مغرية.. ...</td>\n",
              "    </tr>\n",
              "    <tr>\n",
              "      <th>13526</th>\n",
              "      <td>1147191534607065089</td>\n",
              "      <td>مءسف مشروع سكك السلام سيمر عبر مدينه نيوم يا ب...</td>\n",
              "      <td>Negative</td>\n",
              "      <td>#مؤسف\\nمشروع\"#سكك_السلام\" سيمر عبر مدينة #نيوم...</td>\n",
              "    </tr>\n",
              "    <tr>\n",
              "      <th>13527</th>\n",
              "      <td>1183106027509686272</td>\n",
              "      <td>العرب منغمسين في المءامرات والادانه هولاء احفا...</td>\n",
              "      <td>Neutral</td>\n",
              "      <td>العرب منغمسين في المؤامرات والادانة هولاء أحفا...</td>\n",
              "    </tr>\n",
              "    <tr>\n",
              "      <th>13528</th>\n",
              "      <td>1254848763950137344</td>\n",
              "      <td>حرام تاخذون فلوس الطلب و تتجاهلون العميل اين طلب</td>\n",
              "      <td>Negative</td>\n",
              "      <td>@ASQ_Group @asq_groupCS @MCgovSA حرام تاخذون ف...</td>\n",
              "    </tr>\n",
              "    <tr>\n",
              "      <th>13529</th>\n",
              "      <td>1221777026954289152</td>\n",
              "      <td>ملمس شفاك لازال عالقا في خدي كيف ينزع المرء اث...</td>\n",
              "      <td>Neutral</td>\n",
              "      <td>ملمس شِفاك لازال عالقا في خدي ، كيف ينزع المرء...</td>\n",
              "    </tr>\n",
              "  </tbody>\n",
              "</table>\n",
              "<p>13530 rows × 4 columns</p>\n",
              "</div>"
            ],
            "text/plain": [
              "                  Tweet_id  ...                                               text\n",
              "0      1221776528259854336  ...  و للمرة المليون الأب والله أولاً و عاشراً و أخ...\n",
              "1      1217682671469461504  ...  يا وحشة غيابك ويا شين فرقاه\\nويا كبر ذنبه لو ه...\n",
              "2      1146251606167556099  ...  خيبكم الله ، حولتم بلاد التوحيد إلى مزارات للد...\n",
              "3      1243483945917956097  ...  @stccare_ksa @stc_ksa @stc من أمس ارسل على الخ...\n",
              "4      1080541514470703105  ...     أعوذ بالله من زوجة ما تبغى الطايف في شهر العسل\n",
              "...                    ...  ...                                                ...\n",
              "13525  1221076189386813448  ...  والله عرض باقة جوي تي في حقت stc جداً مغرية.. ...\n",
              "13526  1147191534607065089  ...  #مؤسف\\nمشروع\"#سكك_السلام\" سيمر عبر مدينة #نيوم...\n",
              "13527  1183106027509686272  ...  العرب منغمسين في المؤامرات والادانة هولاء أحفا...\n",
              "13528  1254848763950137344  ...  @ASQ_Group @asq_groupCS @MCgovSA حرام تاخذون ف...\n",
              "13529  1221777026954289152  ...  ملمس شِفاك لازال عالقا في خدي ، كيف ينزع المرء...\n",
              "\n",
              "[13530 rows x 4 columns]"
            ]
          },
          "metadata": {},
          "execution_count": 57
        }
      ]
    },
    {
      "cell_type": "code",
      "metadata": {
        "colab": {
          "base_uri": "https://localhost:8080/"
        },
        "id": "4-Lg6E5yw4Wu",
        "outputId": "9bc5f7ca-9267-46fe-9d12-e419834fada2"
      },
      "source": [
        "balanced_data = balanced_data[~balanced_data['normalized_text'].isna()].reset_index(drop=True)\n",
        "len(balanced_data)"
      ],
      "execution_count": null,
      "outputs": [
        {
          "output_type": "execute_result",
          "data": {
            "text/plain": [
              "13530"
            ]
          },
          "metadata": {},
          "execution_count": 58
        }
      ]
    },
    {
      "cell_type": "code",
      "metadata": {
        "id": "7PTxGEWtw4Wv"
      },
      "source": [
        "balanced_data.to_csv(f'{experiment_folder}/balanced_data_psu.csv', index=False)"
      ],
      "execution_count": null,
      "outputs": []
    },
    {
      "cell_type": "code",
      "metadata": {
        "id": "qa63lC8Ov0cV"
      },
      "source": [
        ""
      ],
      "execution_count": null,
      "outputs": []
    }
  ]
}