{
  "cells": [
    {
      "cell_type": "code",
      "execution_count": null,
      "metadata": {
        "colab": {
          "base_uri": "https://localhost:8080/"
        },
        "id": "8GtFdN5oH5RS",
        "outputId": "2472a638-a56d-4eea-c755-3c49c520a4ab"
      },
      "outputs": [
        {
          "name": "stdout",
          "output_type": "stream",
          "text": [
            "Collecting flask-ngrok\n",
            "  Downloading flask_ngrok-0.0.25-py3-none-any.whl (3.1 kB)\n",
            "Requirement already satisfied: requests in /usr/local/lib/python3.7/dist-packages (from flask-ngrok) (2.23.0)\n",
            "Requirement already satisfied: Flask>=0.8 in /usr/local/lib/python3.7/dist-packages (from flask-ngrok) (1.1.4)\n",
            "Requirement already satisfied: Jinja2<3.0,>=2.10.1 in /usr/local/lib/python3.7/dist-packages (from Flask>=0.8->flask-ngrok) (2.11.3)\n",
            "Requirement already satisfied: click<8.0,>=5.1 in /usr/local/lib/python3.7/dist-packages (from Flask>=0.8->flask-ngrok) (7.1.2)\n",
            "Requirement already satisfied: Werkzeug<2.0,>=0.15 in /usr/local/lib/python3.7/dist-packages (from Flask>=0.8->flask-ngrok) (1.0.1)\n",
            "Requirement already satisfied: itsdangerous<2.0,>=0.24 in /usr/local/lib/python3.7/dist-packages (from Flask>=0.8->flask-ngrok) (1.1.0)\n",
            "Requirement already satisfied: MarkupSafe>=0.23 in /usr/local/lib/python3.7/dist-packages (from Jinja2<3.0,>=2.10.1->Flask>=0.8->flask-ngrok) (2.0.1)\n",
            "Requirement already satisfied: idna<3,>=2.5 in /usr/local/lib/python3.7/dist-packages (from requests->flask-ngrok) (2.10)\n",
            "Requirement already satisfied: urllib3!=1.25.0,!=1.25.1,<1.26,>=1.21.1 in /usr/local/lib/python3.7/dist-packages (from requests->flask-ngrok) (1.24.3)\n",
            "Requirement already satisfied: certifi>=2017.4.17 in /usr/local/lib/python3.7/dist-packages (from requests->flask-ngrok) (2021.5.30)\n",
            "Requirement already satisfied: chardet<4,>=3.0.2 in /usr/local/lib/python3.7/dist-packages (from requests->flask-ngrok) (3.0.4)\n",
            "Installing collected packages: flask-ngrok\n",
            "Successfully installed flask-ngrok-0.0.25\n"
          ]
        }
      ],
      "source": [
        "# !pip install farasapy\n",
        "!pip install flask-ngrok"
      ]
    },
    {
      "cell_type": "code",
      "execution_count": null,
      "metadata": {
        "id": "krSbadl6NXhu"
      },
      "outputs": [],
      "source": [
        "import pandas as pd\n",
        "import numpy as np\n",
        "import json\n",
        "import re\n",
        "import string\n",
        "from sklearn.model_selection import train_test_split\n",
        "from sklearn.utils import resample\n",
        "from sklearn.feature_extraction.text import TfidfVectorizer, CountVectorizer\n",
        "from sklearn.metrics import accuracy_score, f1_score\n",
        "from sklearn.svm import SVC\n",
        "from sklearn.ensemble import RandomForestClassifier, AdaBoostClassifier, GradientBoostingClassifier\n",
        "from sklearn.neural_network import MLPClassifier\n",
        "from sklearn.ensemble import VotingClassifier\n",
        "from sklearn.linear_model import LogisticRegression\n",
        "from sklearn.naive_bayes import MultinomialNB, GaussianNB\n",
        "from sklearn.model_selection import GridSearchCV\n",
        "from sklearn.model_selection import StratifiedShuffleSplit\n",
        "from tqdm.notebook import tqdm\n",
        "import matplotlib.pyplot as plt\n",
        "import sys\n",
        "\n",
        "import pickle\n",
        "\n",
        "\n",
        "%matplotlib inline"
      ]
    },
    {
      "cell_type": "code",
      "execution_count": null,
      "metadata": {
        "id": "Zj1LzN_Vb0kM"
      },
      "outputs": [],
      "source": [
        "rand_seed = 0  # random state for reproducibility"
      ]
    },
    {
      "cell_type": "code",
      "execution_count": null,
      "metadata": {
        "id": "jZRC_EsoeVG1"
      },
      "outputs": [],
      "source": [
        "np.random.seed(rand_seed)"
      ]
    },
    {
      "cell_type": "code",
      "execution_count": null,
      "metadata": {
        "colab": {
          "base_uri": "https://localhost:8080/"
        },
        "id": "_Bj_-437Neru",
        "outputId": "be81a730-9664-4f59-8c1f-4679cece774d"
      },
      "outputs": [
        {
          "name": "stdout",
          "output_type": "stream",
          "text": [
            "Drive already mounted at /content/drive; to attempt to forcibly remount, call drive.mount(\"/content/drive\", force_remount=True).\n"
          ]
        }
      ],
      "source": [
        "from google.colab import drive\n",
        "drive.mount('/content/drive')"
      ]
    },
    {
      "cell_type": "code",
      "execution_count": null,
      "metadata": {
        "id": "Z06CMhtiTL1E"
      },
      "outputs": [],
      "source": [
        "# IMPORTANT NOTE: change the experiment_folder to point to your own experiment folder in your Google Drive if you are using Google Colab.\n",
        "# If you are running the notebook in your machine, change the experiment folder to any path you like\n",
        "experiment_folder = '/content/drive/My Drive/PSU_sentiment_analysis_session'\n",
        "sys.path.append(experiment_folder)"
      ]
    },
    {
      "cell_type": "code",
      "execution_count": null,
      "metadata": {
        "id": "qIKvy_o7TT19"
      },
      "outputs": [],
      "source": []
    },
    {
      "cell_type": "code",
      "execution_count": null,
      "metadata": {
        "colab": {
          "base_uri": "https://localhost:8080/",
          "height": 202
        },
        "id": "OFFRucEDNXh2",
        "outputId": "705ffe65-4ab3-49a9-a5f6-ccf24da32533"
      },
      "outputs": [
        {
          "data": {
            "text/html": [
              "<div>\n",
              "<style scoped>\n",
              "    .dataframe tbody tr th:only-of-type {\n",
              "        vertical-align: middle;\n",
              "    }\n",
              "\n",
              "    .dataframe tbody tr th {\n",
              "        vertical-align: top;\n",
              "    }\n",
              "\n",
              "    .dataframe thead th {\n",
              "        text-align: right;\n",
              "    }\n",
              "</style>\n",
              "<table border=\"1\" class=\"dataframe\">\n",
              "  <thead>\n",
              "    <tr style=\"text-align: right;\">\n",
              "      <th></th>\n",
              "      <th>Tweet_id</th>\n",
              "      <th>normalized_text</th>\n",
              "      <th>sentiment</th>\n",
              "      <th>text</th>\n",
              "    </tr>\n",
              "  </thead>\n",
              "  <tbody>\n",
              "    <tr>\n",
              "      <th>0</th>\n",
              "      <td>1221776528259854336</td>\n",
              "      <td>و للمره المليون الاب والله اولا و عاشرا و اخيرا</td>\n",
              "      <td>Positive</td>\n",
              "      <td>و للمرة المليون الأب والله أولاً و عاشراً و أخ...</td>\n",
              "    </tr>\n",
              "    <tr>\n",
              "      <th>1</th>\n",
              "      <td>1217682671469461504</td>\n",
              "      <td>يا وحشه غيابك ويا شين فرقاه ويا كبر ذنبه لو هق...</td>\n",
              "      <td>Neutral</td>\n",
              "      <td>يا وحشة غيابك ويا شين فرقاه\\nويا كبر ذنبه لو ه...</td>\n",
              "    </tr>\n",
              "    <tr>\n",
              "      <th>2</th>\n",
              "      <td>1146251606167556099</td>\n",
              "      <td>خيبكم الله حولتم بلاد التوحيد الي مزارات للدعا...</td>\n",
              "      <td>Negative</td>\n",
              "      <td>خيبكم الله ، حولتم بلاد التوحيد إلى مزارات للد...</td>\n",
              "    </tr>\n",
              "    <tr>\n",
              "      <th>3</th>\n",
              "      <td>1243483945917956097</td>\n",
              "      <td>من امس ارسل علي الخاص و اتصل علي لا يوجد اي تج...</td>\n",
              "      <td>Negative</td>\n",
              "      <td>@stccare_ksa @stc_ksa @stc من أمس ارسل على الخ...</td>\n",
              "    </tr>\n",
              "    <tr>\n",
              "      <th>4</th>\n",
              "      <td>1080541514470703105</td>\n",
              "      <td>اعوذ بالله من زوجه ما تبغي الطايف في شهر العسل</td>\n",
              "      <td>Neutral</td>\n",
              "      <td>أعوذ بالله من زوجة ما تبغى الطايف في شهر العسل</td>\n",
              "    </tr>\n",
              "  </tbody>\n",
              "</table>\n",
              "</div>"
            ],
            "text/plain": [
              "              Tweet_id  ...                                               text\n",
              "0  1221776528259854336  ...  و للمرة المليون الأب والله أولاً و عاشراً و أخ...\n",
              "1  1217682671469461504  ...  يا وحشة غيابك ويا شين فرقاه\\nويا كبر ذنبه لو ه...\n",
              "2  1146251606167556099  ...  خيبكم الله ، حولتم بلاد التوحيد إلى مزارات للد...\n",
              "3  1243483945917956097  ...  @stccare_ksa @stc_ksa @stc من أمس ارسل على الخ...\n",
              "4  1080541514470703105  ...     أعوذ بالله من زوجة ما تبغى الطايف في شهر العسل\n",
              "\n",
              "[5 rows x 4 columns]"
            ]
          },
          "execution_count": 14,
          "metadata": {},
          "output_type": "execute_result"
        }
      ],
      "source": [
        "# reading our prepared data\n",
        "data = pd.read_csv(f'{experiment_folder}/balanced_data_psu.csv')\n",
        "data = data.dropna()\n",
        "data.head()"
      ]
    },
    {
      "cell_type": "code",
      "execution_count": null,
      "metadata": {
        "colab": {
          "base_uri": "https://localhost:8080/",
          "height": 414
        },
        "id": "yc-gy4xLNXh5",
        "outputId": "06fa3f7d-e810-4459-c54c-c6676a177f53"
      },
      "outputs": [
        {
          "data": {
            "text/html": [
              "<div>\n",
              "<style scoped>\n",
              "    .dataframe tbody tr th:only-of-type {\n",
              "        vertical-align: middle;\n",
              "    }\n",
              "\n",
              "    .dataframe tbody tr th {\n",
              "        vertical-align: top;\n",
              "    }\n",
              "\n",
              "    .dataframe thead th {\n",
              "        text-align: right;\n",
              "    }\n",
              "</style>\n",
              "<table border=\"1\" class=\"dataframe\">\n",
              "  <thead>\n",
              "    <tr style=\"text-align: right;\">\n",
              "      <th></th>\n",
              "      <th>Tweet_id</th>\n",
              "      <th>normalized_text</th>\n",
              "      <th>sentiment</th>\n",
              "      <th>text</th>\n",
              "    </tr>\n",
              "  </thead>\n",
              "  <tbody>\n",
              "    <tr>\n",
              "      <th>0</th>\n",
              "      <td>1221776528259854336</td>\n",
              "      <td>و للمره المليون الاب والله اولا و عاشرا و اخيرا</td>\n",
              "      <td>Positive</td>\n",
              "      <td>و للمرة المليون الأب والله أولاً و عاشراً و أخ...</td>\n",
              "    </tr>\n",
              "    <tr>\n",
              "      <th>2</th>\n",
              "      <td>1146251606167556099</td>\n",
              "      <td>خيبكم الله حولتم بلاد التوحيد الي مزارات للدعا...</td>\n",
              "      <td>Negative</td>\n",
              "      <td>خيبكم الله ، حولتم بلاد التوحيد إلى مزارات للد...</td>\n",
              "    </tr>\n",
              "    <tr>\n",
              "      <th>3</th>\n",
              "      <td>1243483945917956097</td>\n",
              "      <td>من امس ارسل علي الخاص و اتصل علي لا يوجد اي تج...</td>\n",
              "      <td>Negative</td>\n",
              "      <td>@stccare_ksa @stc_ksa @stc من أمس ارسل على الخ...</td>\n",
              "    </tr>\n",
              "    <tr>\n",
              "      <th>11</th>\n",
              "      <td>1223397954033213441</td>\n",
              "      <td>عنوان يوم الخميس ما ربوني اهلي وهذبت نفسي عبث</td>\n",
              "      <td>Positive</td>\n",
              "      <td>عنوان يوم الخميس ..\\nما ربوني أهلي، وهذبت نفسي...</td>\n",
              "    </tr>\n",
              "    <tr>\n",
              "      <th>12</th>\n",
              "      <td>1223398487536152576</td>\n",
              "      <td>اخوياا اساسي انتا شريكي كده كده</td>\n",
              "      <td>Positive</td>\n",
              "      <td>@MAyymaan اخوياا اساسي انتا شريكي كده كده 😂😂😂</td>\n",
              "    </tr>\n",
              "    <tr>\n",
              "      <th>...</th>\n",
              "      <td>...</td>\n",
              "      <td>...</td>\n",
              "      <td>...</td>\n",
              "      <td>...</td>\n",
              "    </tr>\n",
              "    <tr>\n",
              "      <th>13522</th>\n",
              "      <td>1221883123367055360</td>\n",
              "      <td>مبروك يسلمونيلا ربنا يسعدك في حياتك</td>\n",
              "      <td>Positive</td>\n",
              "      <td>@Salmina97641778 مبروك يسلمونيلا ربنا يسعدك في...</td>\n",
              "    </tr>\n",
              "    <tr>\n",
              "      <th>13523</th>\n",
              "      <td>1250780092265115649</td>\n",
              "      <td>وزاره التعليم من زمان وهي علي نفس النهج تحمي ا...</td>\n",
              "      <td>Negative</td>\n",
              "      <td>وزاره التعليم من زمان وهي على نفس النهج تحمي ا...</td>\n",
              "    </tr>\n",
              "    <tr>\n",
              "      <th>13524</th>\n",
              "      <td>1080479443565662208</td>\n",
              "      <td>خطوتنا الثانيه يارب وفق دور ال الشباب يقابل ال...</td>\n",
              "      <td>Positive</td>\n",
              "      <td>خطوتنا الثانية يارب وفق ❤\\n\\n▪دور الــ ٣٢\\n#ال...</td>\n",
              "    </tr>\n",
              "    <tr>\n",
              "      <th>13526</th>\n",
              "      <td>1147191534607065089</td>\n",
              "      <td>مءسف مشروع سكك السلام سيمر عبر مدينه نيوم يا ب...</td>\n",
              "      <td>Negative</td>\n",
              "      <td>#مؤسف\\nمشروع\"#سكك_السلام\" سيمر عبر مدينة #نيوم...</td>\n",
              "    </tr>\n",
              "    <tr>\n",
              "      <th>13528</th>\n",
              "      <td>1254848763950137344</td>\n",
              "      <td>حرام تاخذون فلوس الطلب و تتجاهلون العميل اين طلب</td>\n",
              "      <td>Negative</td>\n",
              "      <td>@ASQ_Group @asq_groupCS @MCgovSA حرام تاخذون ف...</td>\n",
              "    </tr>\n",
              "  </tbody>\n",
              "</table>\n",
              "<p>9019 rows × 4 columns</p>\n",
              "</div>"
            ],
            "text/plain": [
              "                  Tweet_id  ...                                               text\n",
              "0      1221776528259854336  ...  و للمرة المليون الأب والله أولاً و عاشراً و أخ...\n",
              "2      1146251606167556099  ...  خيبكم الله ، حولتم بلاد التوحيد إلى مزارات للد...\n",
              "3      1243483945917956097  ...  @stccare_ksa @stc_ksa @stc من أمس ارسل على الخ...\n",
              "11     1223397954033213441  ...  عنوان يوم الخميس ..\\nما ربوني أهلي، وهذبت نفسي...\n",
              "12     1223398487536152576  ...      @MAyymaan اخوياا اساسي انتا شريكي كده كده 😂😂😂\n",
              "...                    ...  ...                                                ...\n",
              "13522  1221883123367055360  ...  @Salmina97641778 مبروك يسلمونيلا ربنا يسعدك في...\n",
              "13523  1250780092265115649  ...  وزاره التعليم من زمان وهي على نفس النهج تحمي ا...\n",
              "13524  1080479443565662208  ...  خطوتنا الثانية يارب وفق ❤\\n\\n▪دور الــ ٣٢\\n#ال...\n",
              "13526  1147191534607065089  ...  #مؤسف\\nمشروع\"#سكك_السلام\" سيمر عبر مدينة #نيوم...\n",
              "13528  1254848763950137344  ...  @ASQ_Group @asq_groupCS @MCgovSA حرام تاخذون ف...\n",
              "\n",
              "[9019 rows x 4 columns]"
            ]
          },
          "execution_count": 15,
          "metadata": {},
          "output_type": "execute_result"
        }
      ],
      "source": [
        "data = data[data['sentiment'] != 'Neutral']\n",
        "data"
      ]
    },
    {
      "cell_type": "markdown",
      "metadata": {
        "id": "TK-v9AWa5Cgl"
      },
      "source": [
        "Now, we need to split our dataset into training, validation, and testing dataset. To do so, we will use the following function.\n",
        "The function receives a Pandas DataFrame, a list of columns names that represent our features, the labels column name, and the\n",
        "percentage of splitting. The function will do stratified sampling, i.e., it will use the labels column to split data into homogeneous groups and then do random sampling with the given fraction from each group and combine them to form our splitted dataset.\n"
      ]
    },
    {
      "cell_type": "code",
      "execution_count": 1,
      "metadata": {
        "id": "mHv3sWuFNXh8"
      },
      "outputs": [],
      "source": [
        "def random_split(data, features, output, fraction, seed=0):\n",
        "    X_train, X_test, y_train, y_test = train_test_split(data[features],\n",
        "                                                        data[output],\n",
        "                                                        stratify = data[output],\n",
        "                                                        random_state=seed,\n",
        "                                                        train_size=fraction\n",
        "                                                       )\n",
        "    train_data = pd.DataFrame(data=X_train, columns=features)\n",
        "    train_data[output] = y_train\n",
        "    test_data = pd.DataFrame(data=X_test, columns=features)\n",
        "    test_data[output] = y_test\n",
        "    \n",
        "    return train_data, test_data"
      ]
    },
    {
      "cell_type": "code",
      "execution_count": null,
      "metadata": {
        "colab": {
          "base_uri": "https://localhost:8080/"
        },
        "id": "fpcWhEfeNXh-",
        "outputId": "27f04c5f-0472-48f0-80f7-5de8ab5e775a"
      },
      "outputs": [
        {
          "name": "stdout",
          "output_type": "stream",
          "text": [
            "output: sentiment\n",
            "features: ['Tweet_id', 'normalized_text', 'text']\n",
            "7215\n",
            "902\n",
            "902\n",
            "9019\n",
            "9019\n"
          ]
        }
      ],
      "source": [
        "train_fraction = .80 # use this to split data into training (80%), and tmp (20%)\n",
        "val_fraction = .50   # use this to split the tmp data into validation (50%), and \n",
        "                     # testing (50%) which means that the validation will be 10% of the original data as well as the\n",
        "\n",
        "output = 'sentiment' # output label column\n",
        "features = data.columns.tolist() # the features columns\n",
        "features.remove(output)\n",
        "print('output:', output)\n",
        "print('features:', features)\n",
        "\n",
        "train_data, tmp = random_split(data, features, output, train_fraction, rand_seed)\n",
        "val_data, test_data = random_split(tmp, features, output, val_fraction, rand_seed)\n",
        "\n",
        "print(len(train_data))\n",
        "print(len(val_data))\n",
        "print(len(test_data))\n",
        "print(len(train_data)+len(val_data)+len(test_data))\n",
        "print(len(data))"
      ]
    },
    {
      "cell_type": "code",
      "execution_count": null,
      "metadata": {
        "id": "DTiW5kGBNXh_"
      },
      "outputs": [],
      "source": []
    },
    {
      "cell_type": "code",
      "execution_count": null,
      "metadata": {
        "id": "TDRHV2aONXiC"
      },
      "outputs": [],
      "source": []
    },
    {
      "cell_type": "markdown",
      "metadata": {
        "id": "b_bL0zzsWUIZ"
      },
      "source": [
        "![](https://drive.google.com/uc?export=view&id=1MA1Y31ovLtG7Zia4YwfQCjGoyiZhtNz3)"
      ]
    },
    {
      "cell_type": "code",
      "execution_count": null,
      "metadata": {
        "colab": {
          "base_uri": "https://localhost:8080/",
          "height": 202
        },
        "id": "pZWgwC_ID-aG",
        "outputId": "6b206b7c-fe29-46c0-ddeb-a2678afeab12"
      },
      "outputs": [
        {
          "data": {
            "text/html": [
              "<div>\n",
              "<style scoped>\n",
              "    .dataframe tbody tr th:only-of-type {\n",
              "        vertical-align: middle;\n",
              "    }\n",
              "\n",
              "    .dataframe tbody tr th {\n",
              "        vertical-align: top;\n",
              "    }\n",
              "\n",
              "    .dataframe thead th {\n",
              "        text-align: right;\n",
              "    }\n",
              "</style>\n",
              "<table border=\"1\" class=\"dataframe\">\n",
              "  <thead>\n",
              "    <tr style=\"text-align: right;\">\n",
              "      <th></th>\n",
              "      <th>Tweet_id</th>\n",
              "      <th>normalized_text</th>\n",
              "      <th>text</th>\n",
              "      <th>sentiment</th>\n",
              "    </tr>\n",
              "  </thead>\n",
              "  <tbody>\n",
              "    <tr>\n",
              "      <th>7491</th>\n",
              "      <td>1242553660284035074</td>\n",
              "      <td>ممكن تقولون متي بيزين النت ترا ما صارت</td>\n",
              "      <td>@stc ممكن تقولون متى بيزين النت ترا ما صارت</td>\n",
              "      <td>Negative</td>\n",
              "    </tr>\n",
              "    <tr>\n",
              "      <th>12731</th>\n",
              "      <td>1221776751166140418</td>\n",
              "      <td>اقسم بالله افضل تعليق علي مباراه الاهلي فكرتنا...</td>\n",
              "      <td>اقسم بالله افضل تعليق علي مباراة الاهلي فكرتنا...</td>\n",
              "      <td>Positive</td>\n",
              "    </tr>\n",
              "    <tr>\n",
              "      <th>12978</th>\n",
              "      <td>1223397785589907462</td>\n",
              "      <td>كسوله ف كل حاجه معنديش مشكله بس مش لدرجه بكسل ...</td>\n",
              "      <td>كسوله ف كل حاجه معنديش مشكله بس مش لدرجه بكسل ...</td>\n",
              "      <td>Negative</td>\n",
              "    </tr>\n",
              "    <tr>\n",
              "      <th>924</th>\n",
              "      <td>1143266146319249408</td>\n",
              "      <td>فايبر ب ريال شركه عروضها ترويجيه وهميه وخدمه و...</td>\n",
              "      <td>#فايبر_STC_ب99ريال\\nشركه عروضها ترويجيه وهميه ...</td>\n",
              "      <td>Negative</td>\n",
              "    </tr>\n",
              "    <tr>\n",
              "      <th>8657</th>\n",
              "      <td>1223398346511044609</td>\n",
              "      <td>انت خلصت الذبادي اللي بحطه ع وشي ذبادي ايه الل...</td>\n",
              "      <td>انت خلصت الذبادى اللي بحطه ع وشي:\\nذبادي ايه ا...</td>\n",
              "      <td>Positive</td>\n",
              "    </tr>\n",
              "  </tbody>\n",
              "</table>\n",
              "</div>"
            ],
            "text/plain": [
              "                  Tweet_id  ... sentiment\n",
              "7491   1242553660284035074  ...  Negative\n",
              "12731  1221776751166140418  ...  Positive\n",
              "12978  1223397785589907462  ...  Negative\n",
              "924    1143266146319249408  ...  Negative\n",
              "8657   1223398346511044609  ...  Positive\n",
              "\n",
              "[5 rows x 4 columns]"
            ]
          },
          "execution_count": 27,
          "metadata": {},
          "output_type": "execute_result"
        }
      ],
      "source": [
        "train_data.head()"
      ]
    },
    {
      "cell_type": "code",
      "execution_count": null,
      "metadata": {
        "id": "ctS_RCmANXiD"
      },
      "outputs": [],
      "source": [
        "vectorizer = TfidfVectorizer(ngram_range=(1, 2), sublinear_tf=True, max_df=0.5, stop_words=None, use_idf=True)\n",
        "# vectorizer = CountVectorizer(ngram_range=(1, 2))\n",
        "\n",
        "train_data_features = vectorizer.fit_transform(train_data['normalized_text'].values.astype('U'))\n",
        "val_data_features = vectorizer.transform(val_data['normalized_text'].values.astype('U'))\n",
        "test_data_features = vectorizer.transform(test_data['normalized_text'].values.astype('U'))\n"
      ]
    },
    {
      "cell_type": "markdown",
      "metadata": {
        "id": "nITkJA5nXoB4"
      },
      "source": [
        "![](https://drive.google.com/uc?export=view&id=1wsPAz5ayzjAJVc-IpFqd-fQxn3SVDayR)"
      ]
    },
    {
      "cell_type": "code",
      "execution_count": null,
      "metadata": {
        "colab": {
          "base_uri": "https://localhost:8080/"
        },
        "id": "FY1imvseXokW",
        "outputId": "4f214b58-a881-47e3-81f1-4d8aa473d529"
      },
      "outputs": [
        {
          "data": {
            "text/plain": [
              "((7215, 98258), (902, 98258), (902, 98258))"
            ]
          },
          "execution_count": 31,
          "metadata": {},
          "output_type": "execute_result"
        }
      ],
      "source": [
        "train_data_features.shape, val_data_features.shape, test_data_features.shape"
      ]
    },
    {
      "cell_type": "code",
      "execution_count": null,
      "metadata": {
        "id": "Kp2QoVXSYGYa"
      },
      "outputs": [],
      "source": []
    },
    {
      "cell_type": "markdown",
      "metadata": {
        "id": "PhStIfNoZuOt"
      },
      "source": [
        "\n",
        "![](https://drive.google.com/uc?export=view&id=1JYQVODnJQJJ95owcQNAyZjvmRGho4WlX)"
      ]
    },
    {
      "cell_type": "code",
      "execution_count": null,
      "metadata": {
        "id": "DKryunRYXnaz"
      },
      "outputs": [],
      "source": []
    },
    {
      "cell_type": "code",
      "execution_count": null,
      "metadata": {
        "id": "k3FFmhTRNXh_"
      },
      "outputs": [],
      "source": [
        "def train_n_test_classifier(clf, train_features, train_labels, test_features, test_labels):\n",
        "    clf.fit(train_features, train_labels) # please learn patterns from the data\n",
        "\n",
        "    print(\"score on training data:\")\n",
        "    print(clf.score(train_features, train_labels))\n",
        "    print('_'*100)\n",
        "\n",
        "    print(\"score on testing data:\")\n",
        "    \n",
        "    pred_y = clf.predict(test_features)\n",
        "    print('accuracy_score: ')\n",
        "    print(accuracy_score(test_labels, pred_y))\n",
        "    \n",
        "    print('f1_score: ')\n",
        "    print(f1_score(test_labels, pred_y, average='macro'))"
      ]
    },
    {
      "cell_type": "code",
      "execution_count": null,
      "metadata": {
        "colab": {
          "base_uri": "https://localhost:8080/"
        },
        "id": "mqeDu1BrNXiD",
        "outputId": "ca92f7cd-7898-4d3e-dd38-ef70056b3696"
      },
      "outputs": [
        {
          "name": "stdout",
          "output_type": "stream",
          "text": [
            "score on training data:\n",
            "0.9756063756063756\n",
            "____________________________________________________________________________________________________\n",
            "score on testing data:\n",
            "accuracy_score: \n",
            "0.7682926829268293\n",
            "f1_score: \n",
            "0.767982129560685\n"
          ]
        }
      ],
      "source": [
        "logistic_reg = LogisticRegression(random_state=rand_seed)\n",
        "\n",
        "train_n_test_classifier(logistic_reg, train_data_features, train_data[output],\n",
        "                        val_data_features, val_data[output])"
      ]
    },
    {
      "cell_type": "code",
      "execution_count": null,
      "metadata": {
        "colab": {
          "base_uri": "https://localhost:8080/"
        },
        "id": "lbcStoRGNXiF",
        "outputId": "ce7cf109-e875-4a75-bc84-9213bb50cb5c"
      },
      "outputs": [
        {
          "name": "stdout",
          "output_type": "stream",
          "text": [
            "score on training data:\n",
            "0.9902979902979903\n",
            "____________________________________________________________________________________________________\n",
            "score on testing data:\n",
            "accuracy_score: \n",
            "0.7815964523281597\n",
            "f1_score: \n",
            "0.7815639663029221\n"
          ]
        }
      ],
      "source": [
        "mnb = MultinomialNB()\n",
        "\n",
        "train_n_test_classifier(mnb, train_data_features, train_data[output],\n",
        "                        val_data_features, val_data[output])"
      ]
    },
    {
      "cell_type": "code",
      "execution_count": null,
      "metadata": {
        "colab": {
          "base_uri": "https://localhost:8080/"
        },
        "id": "qArqwKX0NXiG",
        "outputId": "e681f576-76a0-48ac-cb5c-6ab0882d1607"
      },
      "outputs": [
        {
          "name": "stdout",
          "output_type": "stream",
          "text": [
            "score on training data:\n",
            "0.995010395010395\n",
            "____________________________________________________________________________________________________\n",
            "score on testing data:\n",
            "accuracy_score: \n",
            "0.7671840354767184\n",
            "f1_score: \n",
            "0.7669594744223813\n"
          ]
        }
      ],
      "source": [
        "svm = SVC(kernel='linear', probability=True, random_state=rand_seed)\n",
        "\n",
        "train_n_test_classifier(svm, train_data_features, train_data[output],\n",
        "                        val_data_features, val_data[output])"
      ]
    },
    {
      "cell_type": "code",
      "execution_count": null,
      "metadata": {
        "id": "9Bkvs8odfWfY"
      },
      "outputs": [],
      "source": []
    },
    {
      "cell_type": "code",
      "execution_count": null,
      "metadata": {
        "colab": {
          "base_uri": "https://localhost:8080/"
        },
        "id": "FqjDKW9mNXiG",
        "outputId": "5ac5c5e8-2e79-45b7-9c38-f52adc018b60"
      },
      "outputs": [
        {
          "name": "stdout",
          "output_type": "stream",
          "text": [
            "score on training data:\n",
            "1.0\n",
            "____________________________________________________________________________________________________\n",
            "score on testing data:\n",
            "accuracy_score: \n",
            "0.7195121951219512\n",
            "f1_score: \n",
            "0.7148775767480157\n"
          ]
        }
      ],
      "source": [
        "rf = RandomForestClassifier(n_estimators=100, random_state=rand_seed)\n",
        "\n",
        "train_n_test_classifier(rf, train_data_features, train_data[output],\n",
        "                        val_data_features, val_data[output])"
      ]
    },
    {
      "cell_type": "code",
      "execution_count": null,
      "metadata": {
        "colab": {
          "base_uri": "https://localhost:8080/"
        },
        "id": "x22iFs-Mebeg",
        "outputId": "60859666-da25-48a9-8bae-c0452b691919"
      },
      "outputs": [
        {
          "name": "stdout",
          "output_type": "stream",
          "text": [
            "Iteration 1, loss = 0.72957201\n",
            "Iteration 2, loss = 0.67294843\n",
            "Iteration 3, loss = 0.51706793\n",
            "Iteration 4, loss = 0.23443257\n",
            "Iteration 5, loss = 0.04008542\n",
            "Iteration 6, loss = 0.00828595\n",
            "Iteration 7, loss = 0.00373170\n",
            "Iteration 8, loss = 0.00206441\n",
            "Iteration 9, loss = 0.00131020\n",
            "Iteration 10, loss = 0.00097879\n",
            "Iteration 11, loss = 0.00079916\n",
            "Iteration 12, loss = 0.00066818\n",
            "Iteration 13, loss = 0.00059498\n",
            "Iteration 14, loss = 0.00054414\n",
            "Iteration 15, loss = 0.00050645\n",
            "Iteration 16, loss = 0.00048056\n",
            "Iteration 17, loss = 0.00045583\n",
            "Iteration 18, loss = 0.00043734\n",
            "Iteration 19, loss = 0.00042202\n",
            "Training loss did not improve more than tol=0.001000 for 10 consecutive epochs. Stopping.\n",
            "score on training data:\n",
            "1.0\n",
            "____________________________________________________________________________________________________\n",
            "score on testing data:\n",
            "accuracy_score: \n",
            "0.7649667405764967\n",
            "f1_score: \n",
            "0.7649101066131633\n"
          ]
        }
      ],
      "source": [
        "mlp = MLPClassifier(hidden_layer_sizes=(20,20,20,20), verbose=True, tol=0.001, random_state=rand_seed)\n",
        "train_n_test_classifier(mlp, train_data_features, train_data[output],\n",
        "                        val_data_features, val_data[output])"
      ]
    },
    {
      "cell_type": "code",
      "execution_count": null,
      "metadata": {
        "id": "GXpo-fZSl4j0"
      },
      "outputs": [],
      "source": [
        "# adaboost = AdaBoostClassifier(n_estimators=100)\n",
        "# train_n_test_classifier(adaboost, train_data_features, train_data[output],\n",
        "#                         val_data_features, val_data[output])"
      ]
    },
    {
      "cell_type": "code",
      "execution_count": null,
      "metadata": {
        "id": "jTuHo3NWmxX1"
      },
      "outputs": [],
      "source": [
        "# gboost = GradientBoostingClassifier(n_estimators=100, learning_rate=1.0, max_depth=1, random_state=0)\n",
        "# train_n_test_classifier(gboost, train_data_features, train_data[output],\n",
        "#                         val_data_features, val_data[output])"
      ]
    },
    {
      "cell_type": "code",
      "execution_count": null,
      "metadata": {
        "id": "57jXv3pdNXiH"
      },
      "outputs": [],
      "source": [
        "# ensemble_model = VotingClassifier(estimators=[\n",
        "#                                     ('rf',  rf),\n",
        "#                                     ('mnb', mnb),\n",
        "#                                     ('logistic_reg', logistic_reg),\n",
        "#                                     ('svm', svm),\n",
        "#                                     ('mlp', mlp)\n",
        "#                                     ],\n",
        "#                                   weights=[1, 2.5, 1.5, 2, 3],\n",
        "#                                   voting='soft')\n",
        "\n",
        "\n",
        "# train_n_test_classifier(ensemble_model, train_data_features,\n",
        "#                         train_data[output], val_data_features, val_data[output])\n",
        "\n",
        "    "
      ]
    },
    {
      "cell_type": "code",
      "execution_count": null,
      "metadata": {
        "id": "47_URSF2NXiI"
      },
      "outputs": [],
      "source": []
    },
    {
      "cell_type": "code",
      "execution_count": null,
      "metadata": {
        "id": "um6LOwe1Ftj2"
      },
      "outputs": [],
      "source": []
    },
    {
      "cell_type": "code",
      "execution_count": null,
      "metadata": {
        "id": "zl98uikqF44O"
      },
      "outputs": [],
      "source": [
        "# estimators = [\n",
        "#                 ('rf',  rf),\n",
        "#                 ('mnb', mnb),\n",
        "#                 ('logistic_reg', logistic_reg),\n",
        "#                 ('svm', svm),\n",
        "#                 ('mlp', mlp)\n",
        "#              ]"
      ]
    },
    {
      "cell_type": "code",
      "execution_count": null,
      "metadata": {
        "id": "UgVcS0gZF468"
      },
      "outputs": [],
      "source": [
        "# def get_features_from_estimators(features, estimators):\n",
        "#     clfs_outputs = []\n",
        "#     for name, clf in estimators:\n",
        "#         clfs_outputs.append(clf.predict_proba(features)[:, 0].reshape(-1, 1))\n",
        "#     return np.concatenate(clfs_outputs, axis=1)"
      ]
    },
    {
      "cell_type": "code",
      "execution_count": null,
      "metadata": {
        "id": "yrU6wgSJF49y"
      },
      "outputs": [],
      "source": [
        "# train_data_estimators_features = get_features_from_estimators(train_data_features, estimators)\n",
        "# val_data_estimators_features = get_features_from_estimators(val_data_features, estimators)\n",
        "# test_data_estimators_features = get_features_from_estimators(test_data_features, estimators)\n",
        "\n",
        "# train_data_estimators_features.shape, val_data_estimators_features.shape, test_data_estimators_features.shape"
      ]
    },
    {
      "cell_type": "code",
      "execution_count": null,
      "metadata": {
        "id": "cYnsAwwJF5eg"
      },
      "outputs": [],
      "source": []
    },
    {
      "cell_type": "code",
      "execution_count": null,
      "metadata": {
        "id": "jzoRRYhUF5i2"
      },
      "outputs": [],
      "source": [
        "# en_clf = LogisticRegression(fit_intercept=True)\n",
        "# en_clf = MLPClassifier(hidden_layer_sizes=(10,10), verbose=True, tol=0.001, random_state=0)\n",
        "# en_clf = RandomForestClassifier()\n",
        "# train_n_test_classifier(en_clf, train_data_estimators_features, train_data[output],\n",
        "#                         val_data_estimators_features, val_data[output])"
      ]
    },
    {
      "cell_type": "code",
      "execution_count": null,
      "metadata": {
        "colab": {
          "base_uri": "https://localhost:8080/",
          "height": 206
        },
        "id": "BW78QXU5KqKG",
        "outputId": "8b7f9d25-cfcd-458e-f65c-231fbaaed8e4"
      },
      "outputs": [
        {
          "data": {
            "text/html": [
              "<div>\n",
              "<style scoped>\n",
              "    .dataframe tbody tr th:only-of-type {\n",
              "        vertical-align: middle;\n",
              "    }\n",
              "\n",
              "    .dataframe tbody tr th {\n",
              "        vertical-align: top;\n",
              "    }\n",
              "\n",
              "    .dataframe thead th {\n",
              "        text-align: right;\n",
              "    }\n",
              "</style>\n",
              "<table border=\"1\" class=\"dataframe\">\n",
              "  <thead>\n",
              "    <tr style=\"text-align: right;\">\n",
              "      <th></th>\n",
              "      <th>Tweet_id</th>\n",
              "      <th>normalized_text</th>\n",
              "      <th>sentiment</th>\n",
              "      <th>text</th>\n",
              "    </tr>\n",
              "  </thead>\n",
              "  <tbody>\n",
              "    <tr>\n",
              "      <th>0</th>\n",
              "      <td>1221875106206638080</td>\n",
              "      <td>والله حسب الارقام سيكون مخيب للامال ولكن الاهل...</td>\n",
              "      <td>Positive</td>\n",
              "      <td>@nas_alharbi8 والله حسب الأرقام سيكون مخيب للآ...</td>\n",
              "    </tr>\n",
              "    <tr>\n",
              "      <th>1</th>\n",
              "      <td>1226422627436310528</td>\n",
              "      <td>الحب الحقيقي هو اقتسام بعض نفسك مع شخص اخر اقر...</td>\n",
              "      <td>Positive</td>\n",
              "      <td>الحب الحقيقي هو اقتسام بعض نفسك مع شخص أخر أقر...</td>\n",
              "    </tr>\n",
              "    <tr>\n",
              "      <th>2</th>\n",
              "      <td>1221880820815798277</td>\n",
              "      <td>النهضه في فتيل</td>\n",
              "      <td>Positive</td>\n",
              "      <td>@Mo_Fat7 النهضة في فتيل 😂</td>\n",
              "    </tr>\n",
              "    <tr>\n",
              "      <th>3</th>\n",
              "      <td>1221884400377499651</td>\n",
              "      <td>ليس حبا في ايران بقدر ماهو نكايه بترامب وحزبه</td>\n",
              "      <td>Neutral</td>\n",
              "      <td>@halgawi @DmfMohe ليس حباً في ايران بقدر ماهو ...</td>\n",
              "    </tr>\n",
              "    <tr>\n",
              "      <th>4</th>\n",
              "      <td>1221881406168731649</td>\n",
              "      <td>ابي اعرف الحاكم العربي المسلم اشلون ينام مايخا...</td>\n",
              "      <td>Neutral</td>\n",
              "      <td>@adalfahadduwail أبي أعرف الحاكم العربي المسلم...</td>\n",
              "    </tr>\n",
              "  </tbody>\n",
              "</table>\n",
              "</div>"
            ],
            "text/plain": [
              "              Tweet_id  ...                                               text\n",
              "0  1221875106206638080  ...  @nas_alharbi8 والله حسب الأرقام سيكون مخيب للآ...\n",
              "1  1226422627436310528  ...  الحب الحقيقي هو اقتسام بعض نفسك مع شخص أخر أقر...\n",
              "2  1221880820815798277  ...                          @Mo_Fat7 النهضة في فتيل 😂\n",
              "3  1221884400377499651  ...  @halgawi @DmfMohe ليس حباً في ايران بقدر ماهو ...\n",
              "4  1221881406168731649  ...  @adalfahadduwail أبي أعرف الحاكم العربي المسلم...\n",
              "\n",
              "[5 rows x 4 columns]"
            ]
          },
          "execution_count": 25,
          "metadata": {},
          "output_type": "execute_result"
        }
      ],
      "source": [
        "data = pd.read_csv(f'{experiment_folder}/unbalanced_data_psu.csv')\n",
        "data.head()"
      ]
    },
    {
      "cell_type": "code",
      "execution_count": null,
      "metadata": {
        "colab": {
          "base_uri": "https://localhost:8080/",
          "height": 174
        },
        "id": "5fxYuaFkKx3B",
        "outputId": "86451491-1be0-49d4-b708-a58c1347c703"
      },
      "outputs": [
        {
          "data": {
            "text/html": [
              "<div>\n",
              "<style scoped>\n",
              "    .dataframe tbody tr th:only-of-type {\n",
              "        vertical-align: middle;\n",
              "    }\n",
              "\n",
              "    .dataframe tbody tr th {\n",
              "        vertical-align: top;\n",
              "    }\n",
              "\n",
              "    .dataframe thead th {\n",
              "        text-align: right;\n",
              "    }\n",
              "</style>\n",
              "<table border=\"1\" class=\"dataframe\">\n",
              "  <thead>\n",
              "    <tr style=\"text-align: right;\">\n",
              "      <th></th>\n",
              "      <th>Tweet_id</th>\n",
              "      <th>normalized_text</th>\n",
              "      <th>text</th>\n",
              "    </tr>\n",
              "    <tr>\n",
              "      <th>sentiment</th>\n",
              "      <th></th>\n",
              "      <th></th>\n",
              "      <th></th>\n",
              "    </tr>\n",
              "  </thead>\n",
              "  <tbody>\n",
              "    <tr>\n",
              "      <th>Negative</th>\n",
              "      <td>4510</td>\n",
              "      <td>4510</td>\n",
              "      <td>4510</td>\n",
              "    </tr>\n",
              "    <tr>\n",
              "      <th>Neutral</th>\n",
              "      <td>20808</td>\n",
              "      <td>20808</td>\n",
              "      <td>20808</td>\n",
              "    </tr>\n",
              "    <tr>\n",
              "      <th>Positive</th>\n",
              "      <td>4607</td>\n",
              "      <td>4606</td>\n",
              "      <td>4607</td>\n",
              "    </tr>\n",
              "  </tbody>\n",
              "</table>\n",
              "</div>"
            ],
            "text/plain": [
              "           Tweet_id  normalized_text   text\n",
              "sentiment                                  \n",
              "Negative       4510             4510   4510\n",
              "Neutral       20808            20808  20808\n",
              "Positive       4607             4606   4607"
            ]
          },
          "execution_count": 26,
          "metadata": {},
          "output_type": "execute_result"
        }
      ],
      "source": [
        "data.groupby('sentiment').count()"
      ]
    },
    {
      "cell_type": "code",
      "execution_count": null,
      "metadata": {
        "id": "jY6cNuiKOTok"
      },
      "outputs": [],
      "source": []
    },
    {
      "cell_type": "code",
      "execution_count": null,
      "metadata": {
        "colab": {
          "base_uri": "https://localhost:8080/"
        },
        "id": "3veHhmz9OTmI",
        "outputId": "25aad942-6119-41a3-c0e3-e54b9253979c"
      },
      "outputs": [
        {
          "data": {
            "text/plain": [
              "(4606, 4510, 20808)"
            ]
          },
          "execution_count": 27,
          "metadata": {},
          "output_type": "execute_result"
        }
      ],
      "source": [
        "positive_data = data[data['sentiment'] == 'Positive'].dropna()\n",
        "negative_data = data[data['sentiment'] == 'Negative'].dropna()\n",
        "neutral_data = data[data['sentiment'] == 'Neutral'].dropna()\n",
        "len(positive_data), len(negative_data), len(neutral_data)"
      ]
    },
    {
      "cell_type": "code",
      "execution_count": null,
      "metadata": {
        "id": "Ke010gmsOTgV"
      },
      "outputs": [],
      "source": [
        "non_neutral_data = positive_data.append(negative_data).sample(frac=1).reset_index(drop=True)\n",
        "non_neutral_data['sentiment'] = 'NonNeutral'"
      ]
    },
    {
      "cell_type": "code",
      "execution_count": null,
      "metadata": {
        "id": "5ZneFChaOTbH"
      },
      "outputs": [],
      "source": [
        "# min_class = min([len(neutral_data), len(non_neutral_data)])"
      ]
    },
    {
      "cell_type": "code",
      "execution_count": null,
      "metadata": {
        "id": "bT_Dp2KQOM_h"
      },
      "outputs": [],
      "source": [
        "# neutral_data = neutral_data.sample(n=min_class).reset_index(drop=True)\n",
        "# non_neutral_data = non_neutral_data.sample(n=min_class).reset_index(drop=True)\n",
        "# neu_data = neutral_data.append(non_neutral_data).dropna().sample(frac=1).reset_index(drop=True)\n",
        "# neu_data.head()"
      ]
    },
    {
      "cell_type": "code",
      "execution_count": null,
      "metadata": {
        "id": "eg1q49dti_UU"
      },
      "outputs": [],
      "source": []
    },
    {
      "cell_type": "code",
      "execution_count": null,
      "metadata": {
        "colab": {
          "base_uri": "https://localhost:8080/",
          "height": 423
        },
        "id": "hUEXD5OHi_XY",
        "outputId": "5dc98beb-1d24-4f8a-9153-9c8578443768"
      },
      "outputs": [
        {
          "data": {
            "text/html": [
              "<div>\n",
              "<style scoped>\n",
              "    .dataframe tbody tr th:only-of-type {\n",
              "        vertical-align: middle;\n",
              "    }\n",
              "\n",
              "    .dataframe tbody tr th {\n",
              "        vertical-align: top;\n",
              "    }\n",
              "\n",
              "    .dataframe thead th {\n",
              "        text-align: right;\n",
              "    }\n",
              "</style>\n",
              "<table border=\"1\" class=\"dataframe\">\n",
              "  <thead>\n",
              "    <tr style=\"text-align: right;\">\n",
              "      <th></th>\n",
              "      <th>Tweet_id</th>\n",
              "      <th>normalized_text</th>\n",
              "      <th>sentiment</th>\n",
              "      <th>text</th>\n",
              "    </tr>\n",
              "  </thead>\n",
              "  <tbody>\n",
              "    <tr>\n",
              "      <th>0</th>\n",
              "      <td>1251895249313697793</td>\n",
              "      <td>عندي استفسار علي الخاص ولم يرد علي احد معامله ...</td>\n",
              "      <td>Neutral</td>\n",
              "      <td>@mhrsd_care عندي استفسار على الخاص ولم يرد علي...</td>\n",
              "    </tr>\n",
              "    <tr>\n",
              "      <th>1</th>\n",
              "      <td>1221777689834590208</td>\n",
              "      <td>لا يلتقي الراءعون في بدايه العمر ابدا لا يلتقي...</td>\n",
              "      <td>NonNeutral</td>\n",
              "      <td>لاَ يلتقي الرائعونَ في بداية العمر أبداً ، لا ...</td>\n",
              "    </tr>\n",
              "    <tr>\n",
              "      <th>2</th>\n",
              "      <td>1221562400496934914</td>\n",
              "      <td>زيدان في الشوط الثاني لعبنا بشكل افضل وكنا اسر...</td>\n",
              "      <td>Neutral</td>\n",
              "      <td>🎙زيدان:\"في الشوط الثاني لعبنا بشكل أفضل وكنا أ...</td>\n",
              "    </tr>\n",
              "    <tr>\n",
              "      <th>3</th>\n",
              "      <td>1252906650446581760</td>\n",
              "      <td>السلام عليكم لدي مدرسه اهليه ولدي معلمين يرغبو...</td>\n",
              "      <td>Neutral</td>\n",
              "      <td>@mhrsd_care السلام عليكم لدي مدرسة أهلية ولدي ...</td>\n",
              "    </tr>\n",
              "    <tr>\n",
              "      <th>4</th>\n",
              "      <td>1221883877884682246</td>\n",
              "      <td>انا اذا جعت احس بخمول ما اعصب الانتظار يقهر ما...</td>\n",
              "      <td>NonNeutral</td>\n",
              "      <td>@AdelAliBinAli أنا إذا جعت أحس بخمول ما أعصب \\...</td>\n",
              "    </tr>\n",
              "    <tr>\n",
              "      <th>...</th>\n",
              "      <td>...</td>\n",
              "      <td>...</td>\n",
              "      <td>...</td>\n",
              "      <td>...</td>\n",
              "    </tr>\n",
              "    <tr>\n",
              "      <th>29919</th>\n",
              "      <td>1113864293760499713</td>\n",
              "      <td>رخصه القياده انتهت ولها الان اكثر من شهور منته...</td>\n",
              "      <td>Neutral</td>\n",
              "      <td>@eMoroor \\n\\nرخصة القيادة انتهت ولها الآن اكثر...</td>\n",
              "    </tr>\n",
              "    <tr>\n",
              "      <th>29920</th>\n",
              "      <td>1254769290974134275</td>\n",
              "      <td>السلام عليكم هل فعلا قسم الولاده بمستشفي الملك...</td>\n",
              "      <td>Neutral</td>\n",
              "      <td>@SaudiMOH \\nالسلام عليكم \\n\\nهل فعلاً قسم الول...</td>\n",
              "    </tr>\n",
              "    <tr>\n",
              "      <th>29921</th>\n",
              "      <td>1242839689280851969</td>\n",
              "      <td>يعني انا ادفع علي نت الشريحه مبلغ وقدره عشان ي...</td>\n",
              "      <td>NonNeutral</td>\n",
              "      <td>@Mobily1100 يعني انا ادفع على نت الشريحه مبلغ ...</td>\n",
              "    </tr>\n",
              "    <tr>\n",
              "      <th>29922</th>\n",
              "      <td>1221904575722029056</td>\n",
              "      <td>كل شوق يمر بسلام الا الشوق للميت اللهم ارحم اب...</td>\n",
              "      <td>Neutral</td>\n",
              "      <td>كُل شوق يمر بسلام إلا الشوق للميت، اللهُم أرحم...</td>\n",
              "    </tr>\n",
              "    <tr>\n",
              "      <th>29923</th>\n",
              "      <td>1221883139586514944</td>\n",
              "      <td>الكاتب والاعلامي عبدالعزيز السويد في الصوره دو...</td>\n",
              "      <td>Neutral</td>\n",
              "      <td>الكاتب والإعلامي \\n#عبدالعزيز_السويد_في_الصورة...</td>\n",
              "    </tr>\n",
              "  </tbody>\n",
              "</table>\n",
              "<p>29924 rows × 4 columns</p>\n",
              "</div>"
            ],
            "text/plain": [
              "                  Tweet_id  ...                                               text\n",
              "0      1251895249313697793  ...  @mhrsd_care عندي استفسار على الخاص ولم يرد علي...\n",
              "1      1221777689834590208  ...  لاَ يلتقي الرائعونَ في بداية العمر أبداً ، لا ...\n",
              "2      1221562400496934914  ...  🎙زيدان:\"في الشوط الثاني لعبنا بشكل أفضل وكنا أ...\n",
              "3      1252906650446581760  ...  @mhrsd_care السلام عليكم لدي مدرسة أهلية ولدي ...\n",
              "4      1221883877884682246  ...  @AdelAliBinAli أنا إذا جعت أحس بخمول ما أعصب \\...\n",
              "...                    ...  ...                                                ...\n",
              "29919  1113864293760499713  ...  @eMoroor \\n\\nرخصة القيادة انتهت ولها الآن اكثر...\n",
              "29920  1254769290974134275  ...  @SaudiMOH \\nالسلام عليكم \\n\\nهل فعلاً قسم الول...\n",
              "29921  1242839689280851969  ...  @Mobily1100 يعني انا ادفع على نت الشريحه مبلغ ...\n",
              "29922  1221904575722029056  ...  كُل شوق يمر بسلام إلا الشوق للميت، اللهُم أرحم...\n",
              "29923  1221883139586514944  ...  الكاتب والإعلامي \\n#عبدالعزيز_السويد_في_الصورة...\n",
              "\n",
              "[29924 rows x 4 columns]"
            ]
          },
          "execution_count": 31,
          "metadata": {},
          "output_type": "execute_result"
        }
      ],
      "source": [
        "neu_data = neutral_data.append(non_neutral_data).dropna().sample(frac=1).reset_index(drop=True)\n",
        "neu_data"
      ]
    },
    {
      "cell_type": "code",
      "execution_count": null,
      "metadata": {
        "id": "ilaGvTc0i_au"
      },
      "outputs": [],
      "source": []
    },
    {
      "cell_type": "code",
      "execution_count": null,
      "metadata": {
        "colab": {
          "base_uri": "https://localhost:8080/"
        },
        "id": "NGmuxkPqQIqV",
        "outputId": "ad92f88d-76b7-4bd0-8d9d-dcb998345fd6"
      },
      "outputs": [
        {
          "name": "stdout",
          "output_type": "stream",
          "text": [
            "output: sentiment\n",
            "features: ['Tweet_id', 'normalized_text', 'text']\n",
            "23939\n",
            "2992\n",
            "2993\n",
            "29924\n",
            "29924\n"
          ]
        }
      ],
      "source": [
        "train_fraction = .80 # use this to split data into training (80%), and tmp (20%)\n",
        "val_fraction = .50   # use this to split the tmp data into validation (50%), and \n",
        "                     # testing (50%) which means that the validation will be 10% of the original data as well as the\n",
        "\n",
        "# seed = 0  # random state for reproducibility\n",
        "output = 'sentiment' # output label column\n",
        "features = neu_data.columns.tolist() # the features columns\n",
        "features.remove(output)\n",
        "print('output:', output)\n",
        "print('features:', features)\n",
        "\n",
        "neu_train_data, neu_tmp = random_split(neu_data, features, output, train_fraction, rand_seed)\n",
        "neu_val_data, neu_test_data = random_split(neu_tmp, features, output, val_fraction, rand_seed)\n",
        "\n",
        "print(len(neu_train_data))\n",
        "print(len(neu_val_data))\n",
        "print(len(neu_test_data))\n",
        "print(len(neu_train_data)+len(neu_val_data)+len(neu_test_data))\n",
        "print(len(neu_data))"
      ]
    },
    {
      "cell_type": "code",
      "execution_count": null,
      "metadata": {
        "id": "iWyeUB42QUhv"
      },
      "outputs": [],
      "source": [
        "neu_vectorizer = TfidfVectorizer(ngram_range=(1, 2), sublinear_tf=True, max_df=0.5, stop_words=None, use_idf=True)\n",
        "# neu_vectorizer = CountVectorizer(ngram_range=(1, 2))\n",
        "neu_train_data_features = neu_vectorizer.fit_transform(neu_train_data['normalized_text'].values.astype('U'))\n",
        "neu_val_data_features = neu_vectorizer.transform(neu_val_data['normalized_text'].values.astype('U'))\n",
        "neu_test_data_features = neu_vectorizer.transform(neu_test_data['normalized_text'].values.astype('U'))\n"
      ]
    },
    {
      "cell_type": "code",
      "execution_count": null,
      "metadata": {
        "colab": {
          "base_uri": "https://localhost:8080/"
        },
        "id": "OCwPo09FRuAw",
        "outputId": "bbb7ad5e-1e2a-422c-8d19-1f362aff34ac"
      },
      "outputs": [
        {
          "name": "stdout",
          "output_type": "stream",
          "text": [
            "score on training data:\n",
            "0.8607711266134759\n",
            "____________________________________________________________________________________________________\n",
            "score on testing data:\n",
            "accuracy_score: \n",
            "0.7486631016042781\n",
            "f1_score: \n",
            "0.6599835581991392\n"
          ]
        }
      ],
      "source": [
        "neu_logistic_reg = LogisticRegression(random_state=rand_seed)\n",
        "\n",
        "train_n_test_classifier(neu_logistic_reg, neu_train_data_features, neu_train_data[output],\n",
        "                        neu_val_data_features, neu_val_data[output])"
      ]
    },
    {
      "cell_type": "code",
      "execution_count": null,
      "metadata": {
        "colab": {
          "base_uri": "https://localhost:8080/"
        },
        "id": "qg3Li60fSDdN",
        "outputId": "495fb75d-3f54-46a0-98f7-0abf319570a0"
      },
      "outputs": [
        {
          "name": "stdout",
          "output_type": "stream",
          "text": [
            "Iteration 1, loss = 0.54422918\n",
            "Iteration 2, loss = 0.13787891\n",
            "Iteration 3, loss = 0.01841150\n",
            "Iteration 4, loss = 0.00853890\n",
            "Iteration 5, loss = 0.00647483\n",
            "Iteration 6, loss = 0.00536670\n",
            "Iteration 7, loss = 0.00368105\n",
            "Iteration 8, loss = 0.00313344\n",
            "Iteration 9, loss = 0.00297656\n",
            "Iteration 10, loss = 0.00233240\n",
            "Iteration 11, loss = 0.00234145\n",
            "Iteration 12, loss = 0.00220499\n",
            "Iteration 13, loss = 0.00213740\n",
            "Iteration 14, loss = 0.00197370\n",
            "Iteration 15, loss = 0.00171805\n",
            "Iteration 16, loss = 0.00153091\n",
            "Iteration 17, loss = 0.00131570\n",
            "Iteration 18, loss = 0.00131365\n",
            "Training loss did not improve more than tol=0.001000 for 10 consecutive epochs. Stopping.\n",
            "score on training data:\n",
            "0.9999164543214002\n",
            "____________________________________________________________________________________________________\n",
            "score on testing data:\n",
            "accuracy_score: \n",
            "0.7332887700534759\n",
            "f1_score: \n",
            "0.6796817982776238\n"
          ]
        }
      ],
      "source": [
        "neu_mlp = MLPClassifier(hidden_layer_sizes=(100,100), verbose=True, tol=0.001, random_state=rand_seed)\n",
        "train_n_test_classifier(neu_mlp, neu_train_data_features, neu_train_data[output],\n",
        "                        neu_val_data_features, neu_val_data[output])"
      ]
    },
    {
      "cell_type": "code",
      "execution_count": null,
      "metadata": {
        "colab": {
          "base_uri": "https://localhost:8080/"
        },
        "id": "axhaNBkOSMIE",
        "outputId": "0c1dc3c6-ea2a-486a-8caf-2b49f242be7c"
      },
      "outputs": [
        {
          "name": "stdout",
          "output_type": "stream",
          "text": [
            "score on training data:\n",
            "0.8512469192531016\n",
            "____________________________________________________________________________________________________\n",
            "score on testing data:\n",
            "accuracy_score: \n",
            "0.7169117647058824\n",
            "f1_score: \n",
            "0.49354972476440856\n"
          ]
        }
      ],
      "source": [
        "neu_mnb = MultinomialNB()\n",
        "train_n_test_classifier(neu_mnb, neu_train_data_features, neu_train_data[output],\n",
        "                        neu_val_data_features, neu_val_data[output])"
      ]
    },
    {
      "cell_type": "code",
      "execution_count": null,
      "metadata": {
        "id": "tkcYtkCOhDKe"
      },
      "outputs": [],
      "source": []
    },
    {
      "cell_type": "code",
      "execution_count": null,
      "metadata": {
        "colab": {
          "base_uri": "https://localhost:8080/"
        },
        "id": "g3zPh_PCSDf1",
        "outputId": "bc7e59e3-9ad4-4216-9989-1e885a7568a7"
      },
      "outputs": [
        {
          "name": "stdout",
          "output_type": "stream",
          "text": [
            "score on training data:\n",
            "0.9791971260286562\n",
            "____________________________________________________________________________________________________\n",
            "score on testing data:\n",
            "accuracy_score: \n",
            "0.7563502673796791\n",
            "f1_score: \n",
            "0.6941828981909388\n"
          ]
        }
      ],
      "source": [
        "neu_svm = SVC(kernel='linear', probability=True, random_state=rand_seed)\n",
        "\n",
        "train_n_test_classifier(neu_svm, neu_train_data_features, neu_train_data[output],\n",
        "                        neu_val_data_features, neu_val_data[output])"
      ]
    },
    {
      "cell_type": "code",
      "execution_count": null,
      "metadata": {
        "colab": {
          "base_uri": "https://localhost:8080/"
        },
        "id": "XM05RB92a6xh",
        "outputId": "bb4868df-1c85-4af4-858f-aef9dd5bef0a"
      },
      "outputs": [
        {
          "name": "stdout",
          "output_type": "stream",
          "text": [
            "score on training data:\n",
            "0.9999164543214002\n",
            "____________________________________________________________________________________________________\n",
            "score on testing data:\n",
            "accuracy_score: \n",
            "0.7479946524064172\n",
            "f1_score: \n",
            "0.6587638727461609\n"
          ]
        }
      ],
      "source": [
        "neu_rf = RandomForestClassifier(n_estimators=100, random_state=rand_seed)\n",
        "\n",
        "train_n_test_classifier(neu_rf, neu_train_data_features, neu_train_data[output],\n",
        "                        neu_val_data_features, neu_val_data[output])"
      ]
    },
    {
      "cell_type": "code",
      "execution_count": null,
      "metadata": {
        "id": "ui5b9P9csIcu"
      },
      "outputs": [],
      "source": [
        "pickle.dump(vectorizer, open(f'{experiment_folder}/vectorizer.pkl', 'wb'))\n",
        "pickle.dump(logistic_reg, open(f'{experiment_folder}/logistic_reg.pkl', 'wb'))\n",
        "pickle.dump(mnb, open(f'{experiment_folder}/mnb.pkl', 'wb'))\n",
        "pickle.dump(svm, open(f'{experiment_folder}/svm.pkl', 'wb'))\n",
        "pickle.dump(rf, open(f'{experiment_folder}/rf.pkl', 'wb'))\n",
        "pickle.dump(mlp, open(f'{experiment_folder}/mlp.pkl', 'wb'))"
      ]
    },
    {
      "cell_type": "code",
      "execution_count": null,
      "metadata": {
        "id": "ui3F27OUsIgX"
      },
      "outputs": [],
      "source": [
        "pickle.dump(neu_vectorizer, open(f'{experiment_folder}/neu_vectorizer.pkl', 'wb'))\n",
        "pickle.dump(neu_logistic_reg, open(f'{experiment_folder}/neu_logistic_reg.pkl', 'wb'))\n",
        "pickle.dump(neu_mnb, open(f'{experiment_folder}/neu_mnb.pkl', 'wb'))\n",
        "pickle.dump(neu_svm, open(f'{experiment_folder}/neu_svm.pkl', 'wb'))\n",
        "pickle.dump(neu_rf, open(f'{experiment_folder}/neu_rf.pkl', 'wb'))\n",
        "pickle.dump(neu_mlp, open(f'{experiment_folder}/neu_mlp.pkl', 'wb'))"
      ]
    },
    {
      "cell_type": "markdown",
      "metadata": {
        "id": "B1LY4WSqHtay"
      },
      "source": [
        "# How To Use in Production"
      ]
    },
    {
      "cell_type": "code",
      "execution_count": null,
      "metadata": {
        "id": "FPqt9jYCv1hP"
      },
      "outputs": [],
      "source": []
    },
    {
      "cell_type": "code",
      "execution_count": null,
      "metadata": {
        "id": "BiYizQgpv1lQ"
      },
      "outputs": [],
      "source": [
        "experiment_folder = '/content/drive/My Drive/PSU_sentiment_analysis_session'\n",
        "sys.path.append(experiment_folder)"
      ]
    },
    {
      "cell_type": "code",
      "execution_count": null,
      "metadata": {
        "id": "E_rvMKqtDSzW"
      },
      "outputs": [],
      "source": [
        "vectorizer = pickle.load(open(f'{experiment_folder}/vectorizer.pkl', 'rb'))\n",
        "logistic_reg = pickle.load(open(f'{experiment_folder}/logistic_reg.pkl', 'rb'))\n",
        "mnb = pickle.load(open(f'{experiment_folder}/mnb.pkl', 'rb'))\n",
        "svm = pickle.load(open(f'{experiment_folder}/svm.pkl', 'rb'))\n",
        "rf = pickle.load(open(f'{experiment_folder}/rf.pkl', 'rb'))\n",
        "mlp = pickle.load(open(f'{experiment_folder}/mlp.pkl', 'rb'))\n",
        "\n",
        "neu_vectorizer = pickle.load(open(f'{experiment_folder}/neu_vectorizer.pkl', 'rb'))\n",
        "neu_logistic_reg = pickle.load(open(f'{experiment_folder}/neu_logistic_reg.pkl', 'rb'))\n",
        "neu_mnb = pickle.load(open(f'{experiment_folder}/neu_mnb.pkl', 'rb'))\n",
        "neu_svm = pickle.load(open(f'{experiment_folder}/neu_svm.pkl', 'rb'))\n",
        "neu_rf = pickle.load(open(f'{experiment_folder}/neu_rf.pkl', 'rb'))\n",
        "neu_mlp = pickle.load(open(f'{experiment_folder}/neu_mlp.pkl', 'rb'))"
      ]
    },
    {
      "cell_type": "code",
      "execution_count": null,
      "metadata": {
        "id": "Pqnx4TdTDS3L"
      },
      "outputs": [],
      "source": []
    },
    {
      "cell_type": "code",
      "execution_count": null,
      "metadata": {
        "id": "sRKNaTdFv1oq"
      },
      "outputs": [],
      "source": []
    },
    {
      "cell_type": "code",
      "execution_count": null,
      "metadata": {
        "id": "X3OGqJdfCb5Q"
      },
      "outputs": [],
      "source": [
        "def predict_multi_level(X, neu_vectorizer, neu_clf, vectorizer, clf):\n",
        "    #return clf.predict(vectorizer.transform(X))\n",
        "    neu_y_pred = neu_clf.predict(neu_vectorizer.transform(X))\n",
        "    if len(X[neu_y_pred == 'NonNeutral']) > 0:\n",
        "        y_pred = clf.predict(vectorizer.transform(X[neu_y_pred == 'NonNeutral'])) # classify non neutral into positive or negative\n",
        "        neu_y_pred[neu_y_pred == 'NonNeutral'] = y_pred\n",
        "    \n",
        "    final_y_pred = neu_y_pred\n",
        "    return final_y_pred"
      ]
    },
    {
      "cell_type": "code",
      "execution_count": null,
      "metadata": {
        "id": "GHZImOQRCb_C"
      },
      "outputs": [],
      "source": [
        "X = test_data.dropna()['normalized_text'].values\n",
        "y = test_data.dropna()['sentiment'].values\n",
        "pred_y = predict_multi_level(X, neu_vectorizer, neu_mlp, vectorizer, mnb)"
      ]
    },
    {
      "cell_type": "code",
      "execution_count": null,
      "metadata": {
        "colab": {
          "base_uri": "https://localhost:8080/"
        },
        "id": "Zvh8G1xqDh77",
        "outputId": "0eaff91b-00ab-4169-f5bd-0a139b149202"
      },
      "outputs": [
        {
          "name": "stdout",
          "output_type": "stream",
          "text": [
            "accuracy_score: \n",
            "0.8569844789356984\n",
            "f1_score: \n",
            "0.5985305491105954\n"
          ]
        }
      ],
      "source": [
        "print('accuracy_score: ')\n",
        "print(accuracy_score(y, pred_y))\n",
        "\n",
        "print('f1_score: ')\n",
        "print(f1_score(y, pred_y, average='macro'))"
      ]
    },
    {
      "cell_type": "code",
      "execution_count": null,
      "metadata": {
        "id": "isFEiuRaHkh7"
      },
      "outputs": [],
      "source": [
        "# sampled_test1 = neu_test_data.sort_values(by='normalized_text')[neu_test_data['sentiment'] != 'NonNeutral'].reset_index(drop=True)\n",
        "# sampled_test2 = test_data.sort_values(by='normalized_text').reset_index(drop=True)"
      ]
    },
    {
      "cell_type": "code",
      "execution_count": null,
      "metadata": {
        "id": "gyn3Cy_gJhS6"
      },
      "outputs": [],
      "source": [
        "# global_test_data = sampled_test1.append(sampled_test2).sample(frac=1).reset_index(drop=True)\n",
        "# global_test_data"
      ]
    },
    {
      "cell_type": "code",
      "execution_count": null,
      "metadata": {
        "id": "7vEsOU0zWea7"
      },
      "outputs": [],
      "source": [
        "# X = global_test_data.dropna()['normalized_text'].values\n",
        "# y = global_test_data.dropna()['sentiment'].values\n",
        "# pred_y = predict_multi_level(X, neu_vectorizer, neu_mlp, vectorizer, mnb)"
      ]
    },
    {
      "cell_type": "code",
      "execution_count": null,
      "metadata": {
        "id": "Wwnnq91rZ7hJ"
      },
      "outputs": [],
      "source": [
        "# print('accuracy_score: ')\n",
        "# print(accuracy_score(y, pred_y))\n",
        "\n",
        "# print('f1_score: ')\n",
        "# print(f1_score(y, pred_y, average='macro'))"
      ]
    },
    {
      "cell_type": "code",
      "execution_count": null,
      "metadata": {
        "id": "-6aXLVWGZ8we"
      },
      "outputs": [],
      "source": []
    },
    {
      "cell_type": "code",
      "execution_count": null,
      "metadata": {
        "id": "hajIvry_rN-h"
      },
      "outputs": [],
      "source": []
    },
    {
      "cell_type": "code",
      "execution_count": null,
      "metadata": {
        "id": "HUr87VH4UCac"
      },
      "outputs": [],
      "source": []
    },
    {
      "cell_type": "markdown",
      "metadata": {
        "id": "uDjDh_OAsWzb"
      },
      "source": [
        "# Flask App To Serve Our Models"
      ]
    },
    {
      "cell_type": "code",
      "execution_count": null,
      "metadata": {
        "colab": {
          "base_uri": "https://localhost:8080/"
        },
        "id": "kpEhfmq5f-Aa",
        "outputId": "67b44d00-4c95-4f61-a41a-d1c1b1337fc2"
      },
      "outputs": [
        {
          "name": "stdout",
          "output_type": "stream",
          "text": [
            " * Serving Flask app \"__main__\" (lazy loading)\n",
            " * Environment: production\n",
            "\u001b[31m   WARNING: This is a development server. Do not use it in a production deployment.\u001b[0m\n",
            "\u001b[2m   Use a production WSGI server instead.\u001b[0m\n",
            " * Debug mode: off\n"
          ]
        },
        {
          "name": "stderr",
          "output_type": "stream",
          "text": [
            " * Running on http://127.0.0.1:5000/ (Press CTRL+C to quit)\n"
          ]
        },
        {
          "name": "stdout",
          "output_type": "stream",
          "text": [
            " * Running on http://e6dd-35-237-164-154.ngrok.io\n",
            " * Traffic stats available on http://127.0.0.1:4040\n"
          ]
        },
        {
          "name": "stderr",
          "output_type": "stream",
          "text": [
            "127.0.0.1 - - [19/Oct/2021 10:41:42] \"\u001b[37mGET / HTTP/1.1\u001b[0m\" 200 -\n",
            "127.0.0.1 - - [19/Oct/2021 10:41:43] \"\u001b[33mGET /favicon.ico HTTP/1.1\u001b[0m\" 404 -\n",
            "127.0.0.1 - - [19/Oct/2021 10:42:08] \"\u001b[37mPOST / HTTP/1.1\u001b[0m\" 200 -\n"
          ]
        },
        {
          "name": "stdout",
          "output_type": "stream",
          "text": [
            "text: احب امي و ابي\n",
            "Predicted Sentiment: Positive\n"
          ]
        },
        {
          "name": "stderr",
          "output_type": "stream",
          "text": [
            "127.0.0.1 - - [19/Oct/2021 10:42:11] \"\u001b[37mPOST / HTTP/1.1\u001b[0m\" 200 -\n"
          ]
        },
        {
          "name": "stdout",
          "output_type": "stream",
          "text": [
            "text: احب امي و ابي\n",
            "Predicted Sentiment: Positive\n"
          ]
        },
        {
          "name": "stderr",
          "output_type": "stream",
          "text": [
            "127.0.0.1 - - [19/Oct/2021 10:42:41] \"\u001b[37mPOST / HTTP/1.1\u001b[0m\" 200 -\n"
          ]
        },
        {
          "name": "stdout",
          "output_type": "stream",
          "text": [
            "text: احب امي و ابي\n",
            "Predicted Sentiment: Positive\n"
          ]
        },
        {
          "name": "stderr",
          "output_type": "stream",
          "text": [
            "127.0.0.1 - - [19/Oct/2021 10:42:59] \"\u001b[37mPOST / HTTP/1.1\u001b[0m\" 200 -\n"
          ]
        },
        {
          "name": "stdout",
          "output_type": "stream",
          "text": [
            "text: اكره البيتزا\n",
            "Predicted Sentiment: Negative\n"
          ]
        },
        {
          "name": "stderr",
          "output_type": "stream",
          "text": [
            "127.0.0.1 - - [19/Oct/2021 10:43:21] \"\u001b[37mPOST / HTTP/1.1\u001b[0m\" 200 -\n"
          ]
        },
        {
          "name": "stdout",
          "output_type": "stream",
          "text": [
            "text: احب صديقي يوسف\n",
            "Predicted Sentiment: Positive\n"
          ]
        },
        {
          "name": "stderr",
          "output_type": "stream",
          "text": [
            "127.0.0.1 - - [19/Oct/2021 10:43:38] \"\u001b[37mPOST / HTTP/1.1\u001b[0m\" 200 -\n"
          ]
        },
        {
          "name": "stdout",
          "output_type": "stream",
          "text": [
            "text: ضرب احمد محمد\n",
            "Predicted Sentiment: Positive\n"
          ]
        },
        {
          "name": "stderr",
          "output_type": "stream",
          "text": [
            "127.0.0.1 - - [19/Oct/2021 10:43:57] \"\u001b[37mPOST / HTTP/1.1\u001b[0m\" 200 -\n"
          ]
        },
        {
          "name": "stdout",
          "output_type": "stream",
          "text": [
            "text: قتل محمد احمد\n",
            "Predicted Sentiment: Positive\n"
          ]
        }
      ],
      "source": [
        "import aranorm as aranorm\n",
        "\n",
        "from flask import Flask, flash, request, redirect, url_for\n",
        "from werkzeug.utils import secure_filename\n",
        "from flask_ngrok import run_with_ngrok\n",
        "app = Flask(__name__)\n",
        "run_with_ngrok(app)   \n",
        "\n",
        "\n",
        "@app.route('/', methods=['GET', 'POST'])\n",
        "def upload_file():\n",
        "    if request.method == 'POST':\n",
        "        # check if the post request has the file part\n",
        "        if 'input_text' not in request.form:\n",
        "            flash('No text found!')\n",
        "            return redirect(request.url)\n",
        "\n",
        "        text = request.form['input_text']\n",
        "        # text = stemmer.stem(text)\n",
        "        text = aranorm.normalize_arabic_text(text)\n",
        "        if text == '':\n",
        "            return 'Please, write an Arabic sentance. Symbols and non-Arabic characters will be removed from the text....'\n",
        "        print(f'text: {text}')\n",
        "        predcited_sentiment = predict_multi_level(np.array([text]), neu_vectorizer, neu_svm, vectorizer, mnb)\n",
        "        predcited_sentiment = str(predcited_sentiment.squeeze())\n",
        "        print(\"Predicted Sentiment:\", predcited_sentiment)\n",
        "        return predcited_sentiment\n",
        "    \n",
        "    return '''<!doctype html>\n",
        "<title>تحليل المشاعر من التغريدات</title>\n",
        "<script>\n",
        "function myFunction()\n",
        "{\n",
        "    // clear the output text box from the text\n",
        "    output_text_box = document.getElementById('output_text');\n",
        "    output_text_box.innerHTML = '';\n",
        "   \n",
        "    var elements = document.getElementsByClassName(\"formVal\");\n",
        "    var formData = new FormData(); \n",
        "    \n",
        "    for(var i=0; i<elements.length; i++)\n",
        "    {\n",
        "        formData.append(elements[i].name, elements[i].value);\n",
        "    }\n",
        "    var xmlHttp = new XMLHttpRequest();\n",
        "        xmlHttp.onreadystatechange = function()\n",
        "        {\n",
        "            if(xmlHttp.readyState == 4 && xmlHttp.status == 200)\n",
        "            {\n",
        "                response = xmlHttp.responseText;\n",
        "                output_text_box = document.getElementById('output_text');\n",
        "                console.log(response);\n",
        "                output_text_box.innerHTML = response;\n",
        "            }\n",
        "        }\n",
        "        xmlHttp.open(\"post\", \"/\"); \n",
        "        xmlHttp.send(formData); \n",
        "}\n",
        "</script>\n",
        "<h1>تحليل المشاعر من التغريدات</h1>\n",
        "<p>مثال: أحب أمي و أبي</p>\n",
        "<form method=post enctype=multipart/form-data>\n",
        "  <textarea id=\"input_text\"class='formVal' rows=\"5\" cols=\"50\" type=\"text\" name=\"input_text\" placeholder=\"التغريدة\"></textarea> <br>\n",
        "  <textarea id=\"output_text\" class='formVal' rows=\"5\" cols=\"50\" type=\"text\" name=\"output_text\" placeholder=\"المشاعر المتوقعة\"></textarea>\n",
        "  <input type=\"submit\" value=\"submit_now\" onclick=\"myFunction(); return false;\">\n",
        "</form>\n",
        "\n",
        "</html>\n",
        "    '''\n",
        "app.run()"
      ]
    },
    {
      "cell_type": "code",
      "execution_count": null,
      "metadata": {
        "id": "lZm812PYZ24u"
      },
      "outputs": [],
      "source": []
    },
    {
      "cell_type": "code",
      "execution_count": null,
      "metadata": {
        "id": "C0LRtkScPJCB"
      },
      "outputs": [],
      "source": [
        "!pip freeze > requirements.txt"
      ]
    },
    {
      "cell_type": "code",
      "execution_count": null,
      "metadata": {
        "id": "GoglSgueZ29S"
      },
      "outputs": [],
      "source": []
    },
    {
      "cell_type": "code",
      "execution_count": null,
      "metadata": {
        "id": "l2EPfrOMPJFt"
      },
      "outputs": [],
      "source": []
    },
    {
      "cell_type": "markdown",
      "metadata": {
        "id": "JdXWcy2lsJCC"
      },
      "source": [
        "# Testing Heroku Sentiment Analysis API That We've Create"
      ]
    },
    {
      "cell_type": "code",
      "execution_count": null,
      "metadata": {
        "id": "hL7se6HNZ27G"
      },
      "outputs": [],
      "source": [
        "api_link = 'https://psu-sentiment-session-1.herokuapp.com/'"
      ]
    },
    {
      "cell_type": "code",
      "execution_count": null,
      "metadata": {
        "id": "_4uMaNX_Z-84"
      },
      "outputs": [],
      "source": [
        "import requests"
      ]
    },
    {
      "cell_type": "code",
      "execution_count": null,
      "metadata": {
        "colab": {
          "base_uri": "https://localhost:8080/",
          "height": 355
        },
        "id": "nOzlQFIEN784",
        "outputId": "cad0537f-53b9-4e5e-da95-b6fde2bc8cbf"
      },
      "outputs": [
        {
          "data": {
            "text/html": [
              "<div>\n",
              "<style scoped>\n",
              "    .dataframe tbody tr th:only-of-type {\n",
              "        vertical-align: middle;\n",
              "    }\n",
              "\n",
              "    .dataframe tbody tr th {\n",
              "        vertical-align: top;\n",
              "    }\n",
              "\n",
              "    .dataframe thead th {\n",
              "        text-align: right;\n",
              "    }\n",
              "</style>\n",
              "<table border=\"1\" class=\"dataframe\">\n",
              "  <thead>\n",
              "    <tr style=\"text-align: right;\">\n",
              "      <th></th>\n",
              "      <th>Tweet_id</th>\n",
              "      <th>normalized_text</th>\n",
              "      <th>text</th>\n",
              "      <th>sentiment</th>\n",
              "    </tr>\n",
              "  </thead>\n",
              "  <tbody>\n",
              "    <tr>\n",
              "      <th>0</th>\n",
              "      <td>1223395720927023104</td>\n",
              "      <td>انا معكم من امس وانا الهم بندول والحين ودي بمو...</td>\n",
              "      <td>@2013_zahraaa @nada9sa أنا معكم من أمس وأنا أل...</td>\n",
              "      <td>Negative</td>\n",
              "    </tr>\n",
              "    <tr>\n",
              "      <th>1</th>\n",
              "      <td>1171483323111096320</td>\n",
              "      <td>شي مخجل منتخب فضيحه ياحسافه الملايين اتمني الت...</td>\n",
              "      <td>شي مخجل 👎🏼 منتخب فضيحة .ياحسافة الملايين .اتمن...</td>\n",
              "      <td>Negative</td>\n",
              "    </tr>\n",
              "    <tr>\n",
              "      <th>2</th>\n",
              "      <td>1245162434228346888</td>\n",
              "      <td>اسوء بنك محد بيخدمك كل الموظفين يرمون العملاء ...</td>\n",
              "      <td>@AlAhliNCB اسوء بنك محد بيخدمك كل الموظفين يرم...</td>\n",
              "      <td>Negative</td>\n",
              "    </tr>\n",
              "    <tr>\n",
              "      <th>3</th>\n",
              "      <td>1223167134915801090</td>\n",
              "      <td>احبكمممم تكفون تعالو في مدينه اسمه القويعيه تك...</td>\n",
              "      <td>@McDonaldsKSA احبكمممم تكفون تعالو في مدينه اس...</td>\n",
              "      <td>Positive</td>\n",
              "    </tr>\n",
              "    <tr>\n",
              "      <th>4</th>\n",
              "      <td>1245164841486221312</td>\n",
              "      <td>اني متاكد كورونا من صناعه النساء لاسباب وقفت د...</td>\n",
              "      <td>أني متأكد كورونا من صناعة النساء لأسباب\\n1_وقف...</td>\n",
              "      <td>Positive</td>\n",
              "    </tr>\n",
              "    <tr>\n",
              "      <th>5</th>\n",
              "      <td>1221087434131365893</td>\n",
              "      <td>تخسون اقاطع الحب سوق كوم وربي انه جبر خاطر عند...</td>\n",
              "      <td>تخسون اقاطع الحب سوق كوم وربي انه جبر خاطر عند...</td>\n",
              "      <td>Positive</td>\n",
              "    </tr>\n",
              "    <tr>\n",
              "      <th>6</th>\n",
              "      <td>1221786977508433920</td>\n",
              "      <td>كلللل شي في هالحياه ضدي كل مره اقول بيتعدل كل ...</td>\n",
              "      <td>كلللل شي في هالحياه ضدي كل مره اقول بيتعدل كل ...</td>\n",
              "      <td>Negative</td>\n",
              "    </tr>\n",
              "    <tr>\n",
              "      <th>7</th>\n",
              "      <td>1132185940519211008</td>\n",
              "      <td>وش الفايده من هذا العرض العرض يفيدك باول اشهر ...</td>\n",
              "      <td>وش الفايدة من هذا العرض العرض يفيدك بأول 6 اشه...</td>\n",
              "      <td>Negative</td>\n",
              "    </tr>\n",
              "    <tr>\n",
              "      <th>8</th>\n",
              "      <td>1080191970134450177</td>\n",
              "      <td>هي مصر كلها كانت ف امبارح</td>\n",
              "      <td>هي مصر كلها كانت ف water way امبارح😂</td>\n",
              "      <td>Positive</td>\n",
              "    </tr>\n",
              "    <tr>\n",
              "      <th>9</th>\n",
              "      <td>1153131254423924736</td>\n",
              "      <td>ادمنت افلام و مسلسلات و رياضه مش عشان بستمتع ف...</td>\n",
              "      <td>ادمنت افلام و مسلسلات و رياضة مش عشان بستمتع ف...</td>\n",
              "      <td>Negative</td>\n",
              "    </tr>\n",
              "  </tbody>\n",
              "</table>\n",
              "</div>"
            ],
            "text/plain": [
              "              Tweet_id  ... sentiment\n",
              "0  1223395720927023104  ...  Negative\n",
              "1  1171483323111096320  ...  Negative\n",
              "2  1245162434228346888  ...  Negative\n",
              "3  1223167134915801090  ...  Positive\n",
              "4  1245164841486221312  ...  Positive\n",
              "5  1221087434131365893  ...  Positive\n",
              "6  1221786977508433920  ...  Negative\n",
              "7  1132185940519211008  ...  Negative\n",
              "8  1080191970134450177  ...  Positive\n",
              "9  1153131254423924736  ...  Negative\n",
              "\n",
              "[10 rows x 4 columns]"
            ]
          },
          "execution_count": 61,
          "metadata": {},
          "output_type": "execute_result"
        }
      ],
      "source": [
        "sampled_test_set_api = test_data.head(10).reset_index(drop=True)\n",
        "sampled_test_set_api.head(10)"
      ]
    },
    {
      "cell_type": "code",
      "execution_count": null,
      "metadata": {
        "colab": {
          "base_uri": "https://localhost:8080/"
        },
        "id": "4V-JfdlJZ-_q",
        "outputId": "5e921496-a6ac-486c-b7a0-0927ffb3147a"
      },
      "outputs": [
        {
          "name": "stdout",
          "output_type": "stream",
          "text": [
            "Tweet: @2013_zahraaa @nada9sa أنا معكم من أمس وأنا ألهم بندول وألحين ودي بموية وموب قادرة أنزل من التعب 🤒\n",
            "Real Sentiment: Negative\n",
            "Predicted Sentiment: Negative\n",
            "-------------------------------------------------------------------------------------\n",
            "Tweet: شي مخجل 👎🏼 منتخب فضيحة .ياحسافة الملايين .اتمنى التركيز على رياضة اخرى بدل هالرياضة اللي فتحت رزق للحوج المزاجيين\n",
            " #السعوديه_اليمن\n",
            "Real Sentiment: Negative\n",
            "Predicted Sentiment: Negative\n",
            "-------------------------------------------------------------------------------------\n",
            "Tweet: @AlAhliNCB اسوء بنك محد بيخدمك كل الموظفين يرمون العملاء على بعض\n",
            "Real Sentiment: Negative\n",
            "Predicted Sentiment: Negative\n",
            "-------------------------------------------------------------------------------------\n",
            "Tweet: @McDonaldsKSA احبكمممم تكفون تعالو في مدينه اسمه القويعيه تكفون افتحو ماك في مدينه القويعيه او في القويعيه مول\n",
            "Real Sentiment: Positive\n",
            "Predicted Sentiment: Positive\n",
            "-------------------------------------------------------------------------------------\n",
            "Tweet: أني متأكد كورونا من صناعة النساء لأسباب\n",
            "1_وقفت دوريات كرة القدم\n",
            "2_سدت المقاهي \n",
            "3_گعدت رجلهه يمهه \n",
            "\n",
            "#كولو_كال😂\n",
            "Real Sentiment: Positive\n",
            "Predicted Sentiment: Positive\n",
            "-------------------------------------------------------------------------------------\n",
            "Tweet: تخسون اقاطع الحب سوق كوم وربي انه جبر خاطر عند باقي المواقع الغاليه @SouqKSA #سوق_دوت_كوم\n",
            "Real Sentiment: Positive\n",
            "Predicted Sentiment: Positive\n",
            "-------------------------------------------------------------------------------------\n",
            "Tweet: كلللل شي في هالحياه ضدي كل مره اقول بيتعدل كل شي وللاسف كل شي قاعد يصير اسواء الى متى يعني !!!!!!!!\n",
            "Real Sentiment: Negative\n",
            "Predicted Sentiment: Negative\n",
            "-------------------------------------------------------------------------------------\n",
            "Tweet: وش الفايدة من هذا العرض العرض يفيدك بأول 6 اشهر بعد كذا سعر الاشتراك يرجع سعره الطبيعي #فايبر_STC_ب99ريال\n",
            "Real Sentiment: Negative\n",
            "Predicted Sentiment: Negative\n",
            "-------------------------------------------------------------------------------------\n",
            "Tweet: هي مصر كلها كانت ف water way امبارح😂\n",
            "Real Sentiment: Positive\n",
            "Predicted Sentiment: Positive\n",
            "-------------------------------------------------------------------------------------\n",
            "Tweet: ادمنت افلام و مسلسلات و رياضة مش عشان بستمتع فيهم لا لا ... عشان ابعد عن المجتمع التافه الي بعيش فيه\n",
            "Real Sentiment: Negative\n",
            "Predicted Sentiment: Negative\n",
            "-------------------------------------------------------------------------------------\n"
          ]
        }
      ],
      "source": [
        "for i in range(len(sampled_test_set_api)):\n",
        "  tweet = sampled_test_set_api.iloc[i]['text']\n",
        "  sentiment = sampled_test_set_api.iloc[i]['sentiment']\n",
        "  api_response = requests.post(url=api_link, data={'input_text': tweet})\n",
        "  predicted_sentiment = api_response.text\n",
        "  print('Tweet:', tweet)\n",
        "  print('Real Sentiment:', sentiment)\n",
        "  print('Predicted Sentiment:', predicted_sentiment)\n",
        "  print('-'*85)"
      ]
    },
    {
      "cell_type": "code",
      "execution_count": null,
      "metadata": {
        "id": "tiZGjHHbZ_Cp"
      },
      "outputs": [],
      "source": []
    }
  ],
  "metadata": {
    "colab": {
      "collapsed_sections": [],
      "name": "New_modelling_sklearn.ipynb",
      "provenance": []
    },
    "kernelspec": {
      "display_name": "Python 3.10.7 64-bit",
      "language": "python",
      "name": "python3"
    },
    "language_info": {
      "codemirror_mode": {
        "name": "ipython",
        "version": 3
      },
      "file_extension": ".py",
      "mimetype": "text/x-python",
      "name": "python",
      "nbconvert_exporter": "python",
      "pygments_lexer": "ipython3",
      "version": "3.10.7"
    },
    "vscode": {
      "interpreter": {
        "hash": "d7c1df1b69fe73b3da3160c95044edfccf6820b1550669257b4b6d2ad02ab10e"
      }
    }
  },
  "nbformat": 4,
  "nbformat_minor": 0
}
